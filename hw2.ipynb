{
 "cells": [
  {
   "cell_type": "markdown",
   "metadata": {},
   "source": [
    "## algorithm design and anlysis-2025 spring  homework 2\n",
    "**Deadline**：2025.5.14\n",
    "\n",
    "**name**:但博之\n",
    "\n",
    "\n",
    "note：\n",
    "---\n",
    "1. 带有\\*的题目，申请免上课的同学，必须完成，其他同学选作；\n",
    "2. 请独立完成，如求助了他人或者大模型，请著明，并且不可省略算法分析部分；\n",
    "4. 如若作答有雷同，全部取消成绩；\n",
    "3. 需要书面作答的题目，可以通过引用图片的形式添加，但是注意上传项目时包含所引用的图片的源文件；\n",
    "4. $log_n$ 默认表示$log_2{n}$;"
   ]
  },
  {
   "cell_type": "markdown",
   "metadata": {},
   "source": [
    "## 问题 1  \n",
    "\n",
    "> 给定一个已排序的链表的头 `head` ， *删除所有重复的元素，使每个元素只出现一次* 。返回 *已排序的链表* 。链表的类如下所示：\n",
    "\n",
    "```python\n",
    "class NodeList:\n",
    "    def __init__(self, val=None, right=None):\n",
    "        self.val   = val\n",
    "        self.right = right\n",
    "```\n",
    "\n",
    "输入是一个数组，你首先需要将数组转化为链表，然后删除链表中的重复元素，再遍历链表元素，以一个数组的形式返回。请设计一个算法解决上述任务，分析算法设计思路，计算时间复杂度, 并基于python编程实现。\n",
    "\n",
    "e.g.  输入：head=[1, 1, 2, 3, 3]   输出：[1, 2, 3]\n",
    "\n",
    "![image-20240502110020439](./fig/hw2q1.png)\n",
    "\n"
   ]
  },
  {
   "cell_type": "markdown",
   "metadata": {},
   "source": [
    "idea：\n",
    "\n",
    "**（1）算法设计：**  \n",
    "步骤：   \n",
    "- 遍历链表：从头节点开始遍历链表。\n",
    "- 检查重复元素：对于每个节点，检查其值是否与下一个节点的值相同。\n",
    "- 删除重复节点：如果当前节点的值与下一个节点的值相同，则跳过下一个节点，继续检查下一个节点。\n",
    "- 构建结果链表：在遍历过程中构建新的链表，只包含不重复的节点。\n",
    "\n",
    "**（2）时间复杂度：** \n",
    "遍历链表的时间复杂度为$O(n)$，其中$n$是链表的长度。每个节点最多只会被访问一次，因此总的时间复杂度为$O(n)$。"
   ]
  },
  {
   "cell_type": "code",
   "metadata": {
    "ExecuteTime": {
     "end_time": "2025-05-07T12:48:54.420454Z",
     "start_time": "2025-05-07T12:48:54.414819Z"
    }
   },
   "source": [
    "class NodeList:\n",
    "    def __init__(self, val=None, right=None):\n",
    "        self.val = val\n",
    "        self.right = right\n",
    "\n",
    "def remove_duplicates(head):\n",
    "    if not head:\n",
    "        return None\n",
    "    \n",
    "    current = head\n",
    "    while current and current.right:\n",
    "        if current.val == current.right.val:\n",
    "            current.right = current.right.right\n",
    "        else:\n",
    "            current = current.right\n",
    "    \n",
    "    return head\n",
    "\n",
    "def array_to_linked_list(arr):\n",
    "    if not arr:\n",
    "        return None\n",
    "    \n",
    "    head = NodeList(arr[0])\n",
    "    current = head\n",
    "    for value in arr[1:]:\n",
    "        current.right = NodeList(value)\n",
    "        current = current.right\n",
    "    \n",
    "    return head\n",
    "\n",
    "def linked_list_to_array(head):\n",
    "    result = []\n",
    "    current = head\n",
    "    while current:\n",
    "        result.append(current.val)\n",
    "        current = current.right\n",
    "    return result\n",
    "\n",
    "# 测试\n",
    "input_array = [1, 1, 2, 3, 3]\n",
    "head = array_to_linked_list(input_array)\n",
    "\n",
    "new_head = remove_duplicates(head)\n",
    "\n",
    "output_array = linked_list_to_array(new_head)\n",
    "print(output_array) "
   ],
   "outputs": [
    {
     "name": "stdout",
     "output_type": "stream",
     "text": [
      "[1, 2, 3]\n"
     ]
    }
   ],
   "execution_count": 1
  },
  {
   "cell_type": "markdown",
   "metadata": {},
   "source": [
    "## 问题 2  \n",
    "\n",
    "> 下面是一个经典的算法问题：\n",
    ">\n",
    "> - 给定包含n个整数的一个整数数组 `nums` 和一个整数目标值 `target`，请你在该数组中找出 **和为目标值** *`target`* 的那 **两个** 整数，并返回它们的**数组下标**。假设每种输入只会对应一个答案。但是，数组中同一个元素在答案里不能重复出现。你可以按任意顺序返回答案。\n",
    ">\n",
    "> 由于要多次查找数组中元素的位置，为了提高查询效率可以使用哈希表来存储数组中的数据，在哈希表中查询一个元素的复杂度为O(1)。 已知python中的字典是使用哈希表实现的，即使用`dict[key]`查询对应的value时间复杂度为O(1), python提供了查询字典是否包含某个key的功能：`key in dict`，时间复杂度也是O(1)\n",
    "\n",
    "请根据上面信息，设计一个时间复杂度为O(n) 的算法，解决上述算法问题\n",
    "\n",
    "e.g.   \n",
    "\n",
    "输入：nums=[2,7,11,15], target=9， 输出：[0，1]\n",
    "\n",
    "输入：nums=[3,2,4], target=6, 输出：[1,2]\n",
    "\n",
    "输入：nums=[3,3], target=6,  输出：[0,1]\n"
   ]
  },
  {
   "metadata": {},
   "cell_type": "markdown",
   "source": [
    "idea：\n",
    "\n",
    "**（1）算法设计：**  \n",
    "- 初始化一个空字典：用于存储数组中的元素及其索引。\n",
    "- 遍历数组：对于每个元素，计算目标值与当前元素的差值。\n",
    "- 检查差值是否存在于字典中：\n",
    "    - 如果存在，则说明找到了两个数，它们的和等于目标值，返回这两个数的索引。\n",
    "    - 如果不存在，则将当前元素及其索引存入字典中。\n",
    "- 返回结果：如果遍历完整个数组都没有找到符合条件的两个数，则返回一个默认值或抛出异常。\n",
    "\n",
    "**（2）时间复杂度：**  遍历数组的时间复杂度为$O(n)$，其中$n$是数组的长度。每次查找和插入字典的操作时间复杂度为$O(1)$。因此，总的时间复杂度为$O(n)$。"
   ]
  },
  {
   "cell_type": "code",
   "metadata": {
    "ExecuteTime": {
     "end_time": "2025-05-07T12:51:53.745689Z",
     "start_time": "2025-05-07T12:51:53.740205Z"
    }
   },
   "source": [
    "def two_sum(nums, target):\n",
    "    num_dict = {}\n",
    "    \n",
    "    # 遍历数组\n",
    "    for i, num in enumerate(nums):\n",
    "        complement = target - num\n",
    "        if complement in num_dict:\n",
    "            return [num_dict[complement], i]\n",
    "        num_dict[num] = i\n",
    "    return []\n",
    "\n",
    "# 测试\n",
    "nums1 = [2, 7, 11, 15]\n",
    "target1 = 9\n",
    "print(two_sum(nums1, target1))\n",
    "\n",
    "nums2 = [3, 2, 4]\n",
    "target2 = 6\n",
    "print(two_sum(nums2, target2))\n",
    "\n",
    "nums3 = [3, 3]\n",
    "target3 = 6\n",
    "print(two_sum(nums3, target3))"
   ],
   "outputs": [
    {
     "name": "stdout",
     "output_type": "stream",
     "text": [
      "[0, 1]\n",
      "[1, 2]\n",
      "[0, 1]\n"
     ]
    }
   ],
   "execution_count": 2
  },
  {
   "cell_type": "markdown",
   "metadata": {},
   "source": [
    "## 问题 3:   \n",
    "\n",
    "> 栈是一种常用的数据结构，编译器中通常使用栈来实现表达式求值。\n",
    ">\n",
    "> 以表达式 $3+5 \\times 8-6$​ 为例。编译器使用两个栈来完成运算，即一个栈保持操作数，另一个栈保存运算符。\n",
    ">\n",
    "> 1. 从左向右遍历表达式，遇到数字就压入操作数栈；\n",
    ">\n",
    "> 2. 遇到运算符，就与运算符栈的栈顶元素进行比较。如果比运算符栈顶元素的优先级高，就将当前运算符压入栈；如果比运算符栈顶元素的优先级低或者相同，从运算符栈中取栈顶运算符，从操作数栈的栈顶取 2 个操作数，然后进行计算，再把计算完的结果压入操作数栈，继续比较。\n",
    ">\n",
    "> 下图是 $3+5 \\times 8-6$  这个表达式的计算过程：\n",
    "\n",
    "![figure](./fig/hw2q3.png)\n",
    "\n",
    "根据上述原理，请设计一个算法完成表达式的运算，当输入为表达式字符串，返回对应的计算结果。分析算法设计思路，计算时间复杂度，并基于python编程实现\n",
    "\n",
    "**note：**\n",
    "\n",
    "1. 假设输入的表达式只会出现加（“+”），减 “-”， 乘“*”，除 “/” 四个运算符, 表达式中只会出现正整数\n",
    "2. python中` str.isdigit()`函数可以判断字符串str是否为数字，\n",
    "\n",
    "\n",
    "\n",
    "e.g. :\n",
    "---\n",
    "\n",
    "1. 输入：“$3+5 * 8 -6$”   输出：37\n",
    "\n",
    "2. 输入：“$34+13*9 + 44-12/3$”  输出：191"
   ]
  },
  {
   "cell_type": "markdown",
   "metadata": {},
   "source": [
    "idea：\n",
    "\n",
    "**（1）算法设计：**  \n",
    "- 初始化两个栈：一个用于存储操作数（数值），另一个用于存储运算符。\n",
    "- 遍历表达式字符串：\n",
    "    - 如果遇到数字，则将其压入操作数栈。\n",
    "    - 如果遇到运算符，则根据其优先级与运算符栈顶元素进行比较：\n",
    "        - 如果当前运算符的优先级高于或等于栈顶运算符的优先级，则将当前运算符压入运算符栈。\n",
    "        - 否则，从运算符栈中弹出栈顶运算符，并从操作数栈中弹出相应的操作数进行计算，然后将结果压回操作数栈，继续比较。\n",
    "- 处理剩余的运算符和操作数：当表达式字符串遍历完毕后，如果运算符栈中还有运算符，则依次弹出并进行计算，直到运算符栈为空。\n",
    "- 返回结果：操作数栈中最后剩下的元素即为表达式的计算结果。\n",
    "\n",
    "**（2）时间复杂度：**  遍历表达式字符串的时间复杂度为$O(n)$，每个字符最多只会被访问一次，因此总的时间复杂度为$O(n)$,其中$n$是字符串的长度。"
   ]
  },
  {
   "cell_type": "code",
   "metadata": {
    "ExecuteTime": {
     "end_time": "2025-05-07T13:21:35.832168Z",
     "start_time": "2025-05-07T13:21:35.825846Z"
    }
   },
   "source": [
    "def evaluate_expression(expression):\n",
    "    def apply_operator(operators, values):\n",
    "        # 从操作数栈取出两个操作数并执行运算\n",
    "        operator = operators.pop()\n",
    "        right = values.pop()\n",
    "        left = values.pop()\n",
    "        if operator == '+':\n",
    "            values.append(left + right)\n",
    "        elif operator == '-':\n",
    "            values.append(left - right)\n",
    "        elif operator == '*':\n",
    "            values.append(left * right)\n",
    "        elif operator == '/':\n",
    "            values.append(int(left / right))\n",
    "\n",
    "    def greater_precedence(op1, op2):\n",
    "        # 比较运算符优先级\n",
    "        precedence = {'+': 1, '-': 1, '*': 2, '/': 2}\n",
    "        return precedence[op1] >= precedence[op2]\n",
    "\n",
    "    operators = []\n",
    "    values = []\n",
    "    i = 0\n",
    "\n",
    "    while i < len(expression):\n",
    "        char = expression[i]\n",
    "\n",
    "        if char.isdigit():\n",
    "            # 使用 isdigit() 判断当前字符是否为数字\n",
    "            value = 0\n",
    "            while i < len(expression) and expression[i].isdigit():\n",
    "                value = (value * 10) + int(expression[i])\n",
    "                i += 1\n",
    "            values.append(value)\n",
    "            i -= 1  \n",
    "        else:\n",
    "            # 处理运算符\n",
    "            while (operators and operators[-1] != '(' and \n",
    "                   greater_precedence(operators[-1], char)):\n",
    "                apply_operator(operators, values)\n",
    "            operators.append(char)\n",
    "\n",
    "        i += 1\n",
    "\n",
    "    # 处理剩余运算符\n",
    "    while operators:\n",
    "        apply_operator(operators, values)\n",
    "\n",
    "    return values[0]\n",
    "\n",
    "# 测试\n",
    "example1 = \"3+5*8-6\"\n",
    "print(evaluate_expression(example1))\n",
    "\n",
    "example2 = \"34+13*9+44-12/3\"\n",
    "print(evaluate_expression(example2))"
   ],
   "outputs": [
    {
     "name": "stdout",
     "output_type": "stream",
     "text": [
      "37\n",
      "191\n"
     ]
    }
   ],
   "execution_count": 3
  },
  {
   "cell_type": "markdown",
   "metadata": {},
   "source": [
    "## 问题 4:  \n",
    "\n",
    "> 星球碰撞问题：现有n个星球，在同一条直线上运行，如数组A所示，元素的绝对值表示星球的质量，负数表示星球自右向左运动，正数表示星球自左向右运动，当两个星球相撞的时候，质量小的会消失，大的保持不变，**质量相同的两个星球碰撞后自右向左运动的星球消失，自左向右的星球保持不变**，假设所有星球的速度大小相同。\n",
    ">\n",
    "> $ A=[23,-8, 9, -3, -7, 9, -23, 22] $\n",
    "\n",
    "请设计一个算法模拟星球的运行情况，输出最终的星球存续情况（输出一个数组），分析算法设计思路，计算时间复杂度，并基于python编程实现。\n",
    "\n",
    "e.g.\n",
    "---\n",
    "1.  输入： A=[-3,-6,2,8, 5,-8,9,-2,1]， 输出：[-3, -6, 2, 8, 9, 1]\n",
    "\n",
    "2. 输入：A=[23,-8, 9, -3, -7, 9, -23, 22], 输出：[23, 22]\n",
    "\n"
   ]
  },
  {
   "metadata": {},
   "cell_type": "markdown",
   "source": [
    "idea：\n",
    "\n",
    "**（1）算法设计：**\n",
    "依次遍历每一个星球，并使用一个栈 stack 记录当前未被消灭的星球：\n",
    "- 正向星球（>0）：可以直接入栈，因为它不会和前面的星球碰撞。\n",
    "- 负向星球（<0）：可能与栈顶正向星球发生碰撞，需要进入循环进行模拟：\n",
    "    - 如果栈顶是负向星球：不会碰撞，直接入栈。\n",
    "    - 如果栈顶是正向星球：比较两个质量绝对值：\n",
    "        - 如果栈顶质量大：负向星球消失。\n",
    "        - 如果负向星球质量大：栈顶星球出栈，继续判断是否与前面的正向星球碰撞。\n",
    "        - 如果质量相同：负向星球消失，栈顶星球保持。\n",
    "\n",
    "**（2）时间复杂度：**  每个星球最多只会进出栈一次。因此最坏情况时间复杂度：$O(n)$。"
   ]
  },
  {
   "metadata": {
    "ExecuteTime": {
     "end_time": "2025-05-07T13:24:22.807113Z",
     "start_time": "2025-05-07T13:24:22.801054Z"
    }
   },
   "cell_type": "code",
   "source": [
    "def simulate_collisions(A):\n",
    "    stack = []\n",
    "\n",
    "    for planet in A:\n",
    "        # 当前星球是否还活着\n",
    "        alive = True\n",
    "        while alive and planet < 0 and stack and stack[-1] > 0:\n",
    "            top = stack[-1]\n",
    "            if abs(top) > abs(planet):\n",
    "                alive = False  # 当前星球被毁灭\n",
    "            elif abs(top) < abs(planet):\n",
    "                stack.pop()  # 栈顶星球被毁灭，继续比较\n",
    "            else:\n",
    "                # 质量相等，负向星球消失，正向星球存活\n",
    "                alive = False\n",
    "                break\n",
    "\n",
    "        if alive:\n",
    "            stack.append(planet)\n",
    "\n",
    "    return stack\n",
    "print(simulate_collisions([-3, -6, 2, 8, 5, -8, 9, -2, 1]))\n",
    "print(simulate_collisions([23, -8, 9, -3, -7, 9, -23, 22])) "
   ],
   "outputs": [
    {
     "name": "stdout",
     "output_type": "stream",
     "text": [
      "[-3, -6, 2, 8, 9, 1]\n",
      "[23, 22]\n"
     ]
    }
   ],
   "execution_count": 4
  },
  {
   "cell_type": "markdown",
   "metadata": {},
   "source": [
    "## 问题 5 \n",
    "\n",
    "> 给定一个无序数组nums=[9,-3,-10,0,9,7,33]，请建立一个二叉搜索树存储数组中的所有元素，之后删除二叉树中的元素“0”，再使用中序遍历输出二叉搜索树中的所有元素。\n",
    "\n",
    "使用python编程完成上述任务，并计算时间复杂度\n"
   ]
  },
  {
   "metadata": {},
   "cell_type": "markdown",
   "source": [
    "idea：  \n",
    "\n",
    "**（1）算法设计：**  \n",
    "- 构建二叉搜索树（BST）：将无序数组中的元素逐个插入BST，遵循左子树节点值小于根节点，右子树节点值大于等于根节点的规则。\n",
    "- 删除节点：找到值为0的节点并根据其子节点情况进行删除处理。若节点是叶子节点直接删除；若有一个子节点则用子节点替代；若有两个子节点则用右子树的最小值替代。\n",
    "- 中序遍历：遍历BST并输出有序结果。  \n",
    "\n",
    "**（2）时间复杂度：**  \n",
    "- 插入操作：每个元素插入BST的时间复杂度为$O(h)$，其中h是树的高度。插入n个元素的总时间复杂度为$O(nh)$。最坏情况下（树退化为链表），h = $O(n)$，此时插入时间为$O(n²)$。\n",
    "- 删除操作：删除节点的时间复杂度为$O(h)$。最坏情况下$O(n)$。\n",
    "- 中序遍历：时间复杂度为$O(n)$。\n",
    "- 总时间复杂度：在最坏情况下为$O(n²)$（插入和删除操作主导）."
   ]
  },
  {
   "metadata": {
    "ExecuteTime": {
     "end_time": "2025-05-07T13:29:32.251323Z",
     "start_time": "2025-05-07T13:29:32.245514Z"
    }
   },
   "cell_type": "code",
   "source": [
    "class TreeNode:\n",
    "    def __init__(self, val=0, left=None, right=None):\n",
    "        self.val = val\n",
    "        self.left = left\n",
    "        self.right = right\n",
    "\n",
    "def insert(root, val):\n",
    "    if not root:\n",
    "        return TreeNode(val)\n",
    "    if val < root.val:\n",
    "        root.left = insert(root.left, val)\n",
    "    else:\n",
    "        root.right = insert(root.right, val)\n",
    "    return root\n",
    "\n",
    "def deleteNode(root, key):\n",
    "    if not root:\n",
    "        return None\n",
    "    if key < root.val:\n",
    "        root.left = deleteNode(root.left, key)\n",
    "    elif key > root.val:\n",
    "        root.right = deleteNode(root.right, key)\n",
    "    else:\n",
    "        if not root.left:\n",
    "            return root.right\n",
    "        elif not root.right:\n",
    "            return root.left\n",
    "        else:\n",
    "            min_node = root.right\n",
    "            while min_node.left:\n",
    "                min_node = min_node.left\n",
    "            root.val = min_node.val\n",
    "            root.right = deleteNode(root.right, min_node.val)\n",
    "    return root\n",
    "\n",
    "def inorderTraversal(root):\n",
    "    res = []\n",
    "    def helper(node):\n",
    "        if node:\n",
    "            helper(node.left)\n",
    "            res.append(node.val)\n",
    "            helper(node.right)\n",
    "    helper(root)\n",
    "    return res\n",
    "\n",
    "# 主程序\n",
    "nums = [9, -3, -10, 0, 9, 7, 33]\n",
    "root = None\n",
    "for num in nums:\n",
    "    root = insert(root, num)\n",
    "\n",
    "root = deleteNode(root, 0)\n",
    "result = inorderTraversal(root)\n",
    "print(result)"
   ],
   "outputs": [
    {
     "name": "stdout",
     "output_type": "stream",
     "text": [
      "[-10, -3, 7, 9, 9, 33]\n"
     ]
    }
   ],
   "execution_count": 5
  },
  {
   "cell_type": "markdown",
   "metadata": {},
   "source": [
    "## 问题 6  \n",
    "\n",
    "> 给定一个包含大写字母和小写字母的字符串 s ，返回 字符串包含的 **最长的回文子串的长度** 。请注意 区分大小写 。比如 \"Aa\" 不能当做一个回文字符串。\n",
    ">\n",
    "\n",
    "请设计一个算法解决上述问题，只需要输出最长回文子串的长度，分析算法设计思路，计算时间复杂度，并基于python编程实现\n",
    "\n",
    "e.g. 输入： s=\"adccaccd\"，  输出：7。 最长回文子串为：\"dccaccd\", 长度为7\n"
   ]
  },
  {
   "cell_type": "markdown",
   "metadata": {},
   "source": [
    "idea：  \n",
    "\n",
    "**（1）算法设计：**\n",
    "\n",
    "采用中心扩展法（Expand Around Center），回文的中心可能是一个字符（奇数长度）或两个字符之间（偶数长度），所以遍历字符串的每个字符作为中心进行扩展。从中心向两边扩展，直到不再构成回文。\n",
    "\n",
    "步骤如下：\n",
    "-   对于每个索引 i，尝试以 s[i] 为中心扩展（奇数长度回文）。\n",
    "-   尝试以 s[i] 和 s[i+1] 为中心扩展（偶数长度回文）。\n",
    "-   每次记录最大长度。\n",
    "-   返回最终找到的最大长度。  \n",
    "\n",
    "**（2）时间复杂度：** 每个字符最多扩展两次（奇数和偶数中心），每次扩展最坏为 $O(n)$，所以总时间复杂度为：$O(n²)$，其中 $n$ 是字符串长度。 "
   ]
  },
  {
   "cell_type": "code",
   "metadata": {
    "ExecuteTime": {
     "end_time": "2025-05-07T13:31:31.559283Z",
     "start_time": "2025-05-07T13:31:31.554578Z"
    }
   },
   "source": [
    "def longest_palindrome_length(s):\n",
    "    def expand_around_center(left, right):\n",
    "        while left >= 0 and right < len(s) and s[left] == s[right]:\n",
    "            left -= 1\n",
    "            right += 1\n",
    "        return right - left - 1  \n",
    "\n",
    "    max_len = 0\n",
    "    for i in range(len(s)):\n",
    "        len1 = expand_around_center(i, i)      \n",
    "        len2 = expand_around_center(i, i + 1)  \n",
    "        max_len = max(max_len, len1, len2)\n",
    "\n",
    "    return max_len\n",
    "\n",
    "# 测试\n",
    "print(longest_palindrome_length(\"adccaccd\"))  \n",
    "print(longest_palindrome_length(\"Aa\"))        \n",
    "print(longest_palindrome_length(\"abccba\"))    "
   ],
   "outputs": [
    {
     "name": "stdout",
     "output_type": "stream",
     "text": [
      "7\n",
      "1\n",
      "6\n"
     ]
    }
   ],
   "execution_count": 7
  },
  {
   "cell_type": "markdown",
   "metadata": {},
   "source": [
    "## 问题 7 \n",
    "\n",
    "> 沿一条长河流分散着n座房子。你可以把这条河想象成一条轴，房子是由它们在这条轴上的坐标按顺序排列的。你的公司想在河边的特定地点设置手机基站，这样每户人家都在距离基站4公里的范围内。输入可以看作为一个升序数组，数组元素的取值为大于等于0的正整数，你需要输出最小基站的数目，基站的位置。\n",
    "\n",
    "1. 给出一个时间复杂度为$O(n$) 的算法，使所使用的基站数量最小化，分析算法设计思路，使用python编程实现\n",
    "2. 证明1.中算法产生了最优解决方案。\n",
    "\n",
    "e.g. \n",
    "\n",
    "输入： [1, 5, 12, 33, 34,35]  输出：基站数目为3， 基站位置为[1，12，33]\n",
    "\n"
   ]
  },
  {
   "cell_type": "markdown",
   "metadata": {},
   "source": [
    "idea：  \n",
    "\n",
    "**（1）算法设计：**  \n",
    "要在河流边设置基站，使得所有房子都在基站 ±4公里的范围内（即一个基站可覆盖 8 公里范围）。目标是：使用最少的基站数量。每次为最远未被覆盖的房屋设置基站，确保覆盖范围最大化。 \n",
    "\n",
    "步骤：\n",
    "-   初始化：从第一个房屋开始，设置第一个基站。\n",
    "-   覆盖范围：基站覆盖范围为 [base_pos, base_pos + 4]。\n",
    "-   移动指针：遍历数组，找到第一个超出当前基站覆盖范围的房屋。\n",
    "-   重复：在该房屋位置设置新基站，继续覆盖后续房屋。\n",
    "\n",
    "**（2）时间复杂度：**  O(n)，每个房屋仅被访问一次。\n"
   ]
  },
  {
   "cell_type": "code",
   "metadata": {
    "ExecuteTime": {
     "end_time": "2025-05-07T13:34:27.519465Z",
     "start_time": "2025-05-07T13:34:27.516221Z"
    }
   },
   "source": [
    "def base_stations(houses):\n",
    "    if not houses:\n",
    "        return 0, []\n",
    "    \n",
    "    base_stations = []\n",
    "    i = 0\n",
    "    n = len(houses)\n",
    "    \n",
    "    while i < n:\n",
    "        # 设置基站位置为当前未被覆盖的最远房屋\n",
    "        base_pos = houses[i]\n",
    "        base_stations.append(base_pos)\n",
    "        \n",
    "        # 跳过所有在当前基站覆盖范围内的房屋\n",
    "        while i < n and houses[i] <= base_pos + 4:\n",
    "            i += 1\n",
    "    \n",
    "    return len(base_stations), base_stations\n",
    "\n",
    "\n",
    "# 测试\n",
    "houses = [1, 5, 12, 33, 34, 35]\n",
    "\n",
    "count, locations = base_stations(houses)\n",
    "print(f\"基站数目为 {count}, 基站位置为 {locations}\")"
   ],
   "outputs": [
    {
     "name": "stdout",
     "output_type": "stream",
     "text": [
      "基站数目为 3, 基站位置为 [1, 12, 33]\n"
     ]
    }
   ],
   "execution_count": 8
  },
  {
   "metadata": {},
   "cell_type": "markdown",
   "source": [
    "**最优方案证明：**  \n",
    "-   贪心选择性质：每次选择最远未被覆盖的房屋设置基站，能确保当前覆盖范围最大化，从而减少后续基站需求。\n",
    "-   最优子结构：假设存在更优解，则其必须在某一步选择更早的基站位置。但若基站位置更靠前，则覆盖范围更小，需更多基站补偿未覆盖区域，矛盾。因此贪心策略具有全局最优性。"
   ]
  },
  {
   "cell_type": "markdown",
   "metadata": {},
   "source": [
    "## 问题 8  \n",
    "\n",
    "> 给定由n个正整数组成的一个集合$S = \\{a_1, a_2，···，a_n\\}$和一个正整数W，设计一个算法确定是否存在S的一个子集 $K \\subseteq S$, 使K中所有数之和为 $W$, 如果存在返回“True”，否则返回“False”\n",
    "\n",
    "请设计一个时间复杂度为$O(nW)$动态规划算法，解决上述问题，分析算法的设计思路，并且基于python编程实现（不需要输出子集）。\n",
    "\n",
    "e.g. \n",
    "\n",
    "输入：S = {1,4,7,3,5}， W = 11，输出：True。   因为K可以是{4,7}。\n",
    "\n"
   ]
  },
  {
   "cell_type": "markdown",
   "metadata": {},
   "source": [
    "idea：  \n",
    "\n",
    "**（1）算法设计：**  \n",
    "- 目标：判断集合中是否存在子集和为 W。\n",
    "- 动态规划表：dp[i][j] 表示前 i 个元素能否组成和为 j。\n",
    "- 初始化：dp[0][0] = True（空集和为0），其余为 False。\n",
    "- 状态转移：\n",
    "  - 若不选当前元素：dp[i][j] = dp[i-1][j]。\n",
    "  - 若选当前元素且 j >= S[i-1]：dp[i][j] = dp[i-1][j - S[i-1]]。\n",
    "- 结果：返回 dp[n][W] 的值。\n",
    "\n",
    "**（2）时间复杂度：**  \n",
    "\n",
    "- 状态总数：$O(n * W)$（其中$n$为集合大小，$W$为目标和）\n",
    "- 每个状态计算耗时：$O(1)$\n",
    "- 总体复杂度：$O(n * W)$"
   ]
  },
  {
   "cell_type": "code",
   "metadata": {
    "ExecuteTime": {
     "end_time": "2025-05-07T13:37:53.045119Z",
     "start_time": "2025-05-07T13:37:53.040649Z"
    }
   },
   "source": [
    "def subset_sum(S, W):\n",
    "    n = len(S)\n",
    "    dp = [[False] * (W + 1) for _ in range(n + 1)]\n",
    "    dp[0][0] = True\n",
    "    \n",
    "    for i in range(1, n + 1):  # 遍历每个元素\n",
    "        for j in range(W + 1):  # 遍历所有可能的目标和\n",
    "            # 如果当前元素值大于目标和，则不选该元素\n",
    "            if j < S[i - 1]:\n",
    "                dp[i][j] = dp[i - 1][j]\n",
    "            else:\n",
    "                dp[i][j] = dp[i - 1][j] or dp[i - 1][j - S[i - 1]]\n",
    "    \n",
    "    return dp[n][W]\n",
    "\n",
    "# 测试\n",
    "S = [1, 4, 7, 3, 5]  \n",
    "W = 11              \n",
    "print(subset_sum(S, W)) "
   ],
   "outputs": [
    {
     "name": "stdout",
     "output_type": "stream",
     "text": [
      "True\n"
     ]
    }
   ],
   "execution_count": 9
  },
  {
   "cell_type": "markdown",
   "metadata": {},
   "source": [
    "\n",
    "\n",
    "## 问题 9 \n",
    "\n",
    "> 给定一个n个物品的集合。物体的重量为$w_1, w_2，…、w_n$，物品的价值分别是$v_1、v_2、…v_n$。给你**两个**重量为 $c$ 的背包。如果你带了一个东西，它可以放在一个背包里，也可以放在另一个背包里，但不能同时放在两个背包里。所有权重和价值都是正整数。\n",
    "\n",
    "1. 设计一个时间复杂度为 $O(nc^2)$ 的动态规划算法，确定可以放入两个背包的物体的最大价值。分析算法设计思路，并基于python编程实现\n",
    "2. \\* 修改1中的算法，输出每个背包的内容（物品对应下标）。\n",
    "\n",
    "e.g.: \n",
    "\n",
    "输入 V=[1,3,2,5,8,7], W=[1,3,2,5,8,7], c=7, 输出：最大价值=14，背包装的物品为：[6] [4，3] （同一个背包中物品装入顺序对结果无影响）  \n"
   ]
  },
  {
   "cell_type": "markdown",
   "metadata": {},
   "source": [
    "idea：  \n",
    "\n",
    "**（1）算法设计：**  \n",
    "1. 动态规划部分:使用三维动态规划数组 dp[i][j][k] 来表示前 i 个物品在两个背包容量分别为 j 和 k 时的最大总价值。状态转移逻辑清晰，考虑了三种情况：\n",
    " - 不选当前物品；\n",
    " - 将当前物品放入第一个背包；\n",
    " - 将当前物品放入第二个背包。\n",
    "2. 回溯部分：在回溯过程中，代码通过比较当前状态与前一个状态的值，逐步确定每个物品是否被选中以及被放入哪个背包。其逻辑为：\n",
    " - 如果当前状态等于前一个状态，则当前物品未被选中；\n",
    " - 如果当前状态等于将当前物品放入第一个背包后的状态，则将其加入第一个背包；\n",
    " - 否则，将其加入第二个背包。\n",
    "\n",
    "**（2）时间复杂度：**  $O（nc²）$，三重循环：物品n × 容量c × 容量c"
   ]
  },
  {
   "cell_type": "code",
   "metadata": {
    "ExecuteTime": {
     "end_time": "2025-05-07T13:43:13.453868Z",
     "start_time": "2025-05-07T13:43:13.446924Z"
    }
   },
   "source": [
    "def max_value(V, W, c):\n",
    "    n = len(V)\n",
    "    dp = [[[0]*(c+1) for _ in range(c+1)] for _ in range(n+1)]\n",
    "    bag1_items = []\n",
    "    bag2_items = []\n",
    "\n",
    "    for i in range(1, n+1):  # i: 1-based item index\n",
    "        for j in range(c+1):\n",
    "            for k in range(c+1):\n",
    "                dp[i][j][k] = dp[i-1][j][k]\n",
    "                if j >= W[i-1]:  # W[i-1] is 0-based indexing\n",
    "                    dp[i][j][k] = max(dp[i][j][k], \n",
    "                                     dp[i-1][j - W[i-1]][k] + V[i-1])\n",
    "                if k >= W[i-1]:\n",
    "                    dp[i][j][k] = max(dp[i][j][k], \n",
    "                                     dp[i-1][j][k - W[i-1]] + V[i-1])\n",
    "\n",
    "    # 回溯确定物品分配（使用1-based索引）\n",
    "    i, j, k = n, c, c\n",
    "    while i > 0:\n",
    "        if dp[i][j][k] == dp[i-1][j][k]:\n",
    "            i -= 1\n",
    "        elif j >= W[i-1] and dp[i][j][k] == dp[i-1][j - W[i-1]][k] + V[i-1]:\n",
    "            bag1_items.append(i)\n",
    "            j -= W[i-1]\n",
    "            i -= 1\n",
    "        else:\n",
    "            bag2_items.append(i)\n",
    "            k -= W[i-1]\n",
    "            i -= 1\n",
    "\n",
    "    return dp[n][c][c], bag1_items, bag2_items\n",
    "\n",
    "# 测试\n",
    "V = [1,3,2,5,8,7]\n",
    "W = [1,3,2,5,8,7]\n",
    "c = 7\n",
    "\n",
    "# 示例调用\n",
    "max_val, bag1, bag2 = max_value(V, W, c)\n",
    "print(\"最大价值 =\", max_val)\n",
    "print(\"背包装的物品为:\", bag1, bag2)"
   ],
   "outputs": [
    {
     "name": "stdout",
     "output_type": "stream",
     "text": [
      "最大价值 = 14\n",
      "背包装的物品为: [6] [4, 3]\n"
     ]
    }
   ],
   "execution_count": 10
  },
  {
   "cell_type": "markdown",
   "metadata": {},
   "source": [
    "## 问题 10 \n",
    "\n",
    "> 给定两个字符串 $x[1..n]$ 和 $y[1..m]$，我们想通过以下操作将 $x$ 变换为 $y$ :\n",
    ">\n",
    "> **插入**：在 $x$ 中插入一个字符(在任何位置)；**删除**：从 $x$ 中删除一个字符(在任何位置)； **替换**：用另一个字符替换 $x$ 中的一个字符。\n",
    ">\n",
    "> 例如: $x = abcd$, $y = bcfe$，\n",
    ">\n",
    "> - 将 $x$ 转换为 $y$ 的一种可能方法是：1. 删除 $x$ 开头的 $a$, $x$变成 $bcd$； 2. 将 $x$ 中的字符 $d$ 替换为字符 $f$。$x$ 变成 $bcf$； 3. 在 $x$ 的末尾插入字符 $e$。$x$ 变成 $bcfe$。\n",
    ">\n",
    "> - 另一种可能的方法：1. 删除 $x$ 开头的 $a$,  $x$ 变成 $bcd$； 2. 在 $x$ 中字符 $d$ 之前插入字符 $f$。$x$ 变成 $bcfd$。3. 将 $x$ 中的字符 $d$ 替换为字符 $e$。$x$ 变成 $bcfe$。\n",
    "\n",
    "设计一个时间复杂度为 $O(mn)$ 的算法，返回将 $x$ 转换为 $y$ 所需的最少操作次数。分析算法设计思路，并基于python编程实现。\n"
   ]
  },
  {
   "cell_type": "markdown",
   "metadata": {},
   "source": [
    "idea：  \n",
    "\n",
    "**（1）算法设计：**  \n",
    "- 定义状态：设 dp[i][j] 表示将字符串 x 的前 i 个字符转换为 y 的前 j 个字符所需的最小操作次数。\n",
    "- 初始条件：\n",
    "    - 当 x 长度为 0 时，需要插入 j 次，故 dp[0][j] = j。\n",
    "    - 当 y 长度为 0 时，需要删除 i 次，故 dp[i][0] = i。\n",
    "- 状态转移：\n",
    "    - 若 x[i-1] == y[j-1]，则无需操作，dp[i][j] = dp[i-1][j-1]。\n",
    "    - 否则，取以下三种操作的最小值加一：\n",
    "        - 插入：dp[i][j-1] + 1\n",
    "        - 删除：dp[i-1][j] + 1\n",
    "        - 替换：dp[i-1][j-1] + 1\n",
    "\n",
    "**（2）时间复杂度：**  时间复杂度为$O(mn)$，其中$m$、$n$分别是字符串$x$和$y$的长度"
   ]
  },
  {
   "cell_type": "code",
   "metadata": {
    "ExecuteTime": {
     "end_time": "2025-05-07T13:46:15.616481Z",
     "start_time": "2025-05-07T13:46:15.612583Z"
    }
   },
   "source": [
    "def min_edit_distance(x, y):\n",
    "    n = len(x)\n",
    "    m = len(y)\n",
    "\n",
    "    dp = [[0] * (m + 1) for _ in range(n + 1)]\n",
    "\n",
    "    for i in range(n + 1):\n",
    "        dp[i][0] = i\n",
    "    for j in range(m + 1):\n",
    "        dp[0][j] = j\n",
    "\n",
    "    for i in range(1, n + 1):\n",
    "        for j in range(1, m + 1):\n",
    "            if x[i-1] == y[j-1]:\n",
    "                dp[i][j] = dp[i-1][j-1]\n",
    "            else:\n",
    "                dp[i][j] = min(dp[i-1][j], dp[i][j-1], dp[i-1][j-1]) + 1\n",
    "    return dp[n][m]\n",
    "\n",
    "# 测试\n",
    "x = \"abcd\"\n",
    "y = \"bcfe\"\n",
    "print(\"最少操作次数：\",min_edit_distance(x, y))"
   ],
   "outputs": [
    {
     "name": "stdout",
     "output_type": "stream",
     "text": [
      "最少操作次数： 3\n"
     ]
    }
   ],
   "execution_count": 13
  }
 ],
 "metadata": {
  "language_info": {
   "name": "python"
  },
  "kernelspec": {
   "name": "python3",
   "language": "python",
   "display_name": "Python 3 (ipykernel)"
  }
 },
 "nbformat": 4,
 "nbformat_minor": 2
}
