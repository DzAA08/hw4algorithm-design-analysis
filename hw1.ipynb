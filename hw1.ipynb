{
 "cells": [
  {
   "cell_type": "markdown",
   "metadata": {},
   "source": [
    "## algorithm design and anlysis-2025 spring  homework 1 \n",
    "**Deadline**：2025.5.14\n",
    "\n",
    "**name**:但博之\n",
    "\n",
    "\n",
    "note：\n",
    "---\n",
    "1. 带有\\*的题目，申请免上课的同学，必须完成，其他同学选作；\n",
    "2. 请独立完成，如求助了他人或者大模型，请著明，并且不可省略算法分析部分；\n",
    "4. 如若作答有雷同，全部取消成绩；\n",
    "3. 需要书面作答的题目，可以通过引用图片的形式添加，但是注意上传项目时包含所引用的图片的源文件；\n",
    "4. $log_n$ 默认表示$log_2{n}$;"
   ]
  },
  {
   "cell_type": "markdown",
   "metadata": {},
   "source": [
    "## 问题 1\n",
    "\n",
    "对于下面的每一对表达式(A, B), A是否能表示为B的 $\\Theta, \\Omega ,O$形式. 请注意, 这些关系中的零个、一个或多个可能成立。列出所有正确的。经常发生一些学生会,把指示写错, 所以请把关系写完整, 例如: $A = O(B),  A =\\Theta(B)$, 或$A = \\Omega(B)$。\n",
    "\n",
    "1. $A=n^2-100n, B=n^2$\n",
    "2. $A=logn, B=log_{1.2}n$\n",
    "3. $A=3^{2n}, B=2^{4n}$\n",
    "4. $A=2^{logn}, B=n$\n",
    "5. $A=\\log{\\log}{n},B=10^{10^{100}}$"
   ]
  },
   {
   "cell_type": "markdown",
   "metadata": {},
   "source": [
    "you can refer a handwritten picture, pleas upload the picture in /fig/xxx.png\n",
    "answer:"
   ]
  },
  {
   "metadata": {},
   "cell_type": "markdown",
   "source": "![hw1_1](/fig/hw1_1.png)"
  },
  {
   "cell_type": "markdown",
   "metadata": {},
   "source": [
    "## 问题 2：\n",
    "\n",
    "假设有函数 $f$ 和 $g$ 使得 $f(n)$ = $O(g(n))$ 对于下面的每一个陈述, 请判断对错, 如果正确请给出证明, 否则请给出一个反例。\n",
    "\n",
    "1. $\\log{f(n)}$ = $O(\\log(1+g(n)))$\n",
    "2. $3^{f(n)}=O(3^{g(n)})$\n",
    "3. $(f(n))^2=O((g(n))^2)$ "
   ]
  },
  {
   "cell_type": "markdown",
   "metadata": {},
   "source": [
    "you can refer a handwritten picture, pleas upload the picture in /fig/xxx.png\n",
    "answer:"
   ]
  },
  {
   "metadata": {},
   "cell_type": "markdown",
   "source": "![hw1_2](/fig/hw1_2.png)"
  },
  {
   "cell_type": "markdown",
   "metadata": {},
   "source": [
    "## 问题 3\n",
    "\n",
    "根据下列递归公式, 计算下列 $T(n)$ 对应的的渐近上界。要求所求的边界尽可能的紧（tight）, 请写明步骤。\n",
    "\n",
    "1. $T(1)=1; T(n)=T(n/4)+1$ for $n>1$\n",
    "2. $T(1)=1;T(n)=3T(n/3)+n^2$ for $n>1$\n",
    "3. $T(1)=1;T(n)=T(2n/3)+1$ for $n>1$\n",
    "4. $T(1)=1;T(n)=5T(n/4)+n$ for $n>1$\n",
    "5. $T(n)=1 \\ for\\ n \\le 2 ; T(n)=T(\\sqrt{n})+1 \\ for \\ n>2$"
   ]
  },
  {
   "cell_type": "markdown",
   "metadata": {},
   "source": [
    "can refer a handwritten picture, pleas upload the picture in /fig/xxx.png\n",
    "answer:"
   ]
  },
  {
   "metadata": {},
   "cell_type": "markdown",
   "source": "![hw1_3_1](/fig/hw1_3_1.png)"
  },
  {
   "metadata": {},
   "cell_type": "markdown",
   "source": "![hw1_3_2](/fig/hw1_3_2.png)"
  },
  {
   "cell_type": "markdown",
   "metadata": {},
   "source": [
    "## 问题 4：\n",
    "\n",
    "给定一个包含n个元素的数组 `profits` , 它的第 `i` 个元素 `profits[i]` 表示一支股票第 `i` 天的**收益**（正数表示涨, 负数表示跌）。你只能选择 **某一天** 买入这只股票, 并选择在 **未来的某一个不同的日子** 卖出该股票。\n",
    "\n",
    "1. 设计一个算法来计算你所能获取的最大利润和对应买入和卖出的日期。请分析算法方案, 计算其时间复杂度, 并且使用python编程实现该算法。\n",
    "\n",
    "2. \\* 设计一个时间复杂度为 $O(n)$的算法实现该算法\n",
    "\n",
    "e.g. :\n",
    "---\n",
    "profits=[3,2,1,-7,5,2,-1,3,-1], 第5天买入, 第8天卖出, 收益最大：9\n",
    "\n"
   ]
  },
  {
   "cell_type": "markdown",
   "metadata": {},
   "source": [
    "idea:  \n",
    "**（1）算法设计：**\n",
    "\n",
    "基于\"最大子段和\"（Kadane算法），用 cur_sum 变量跟踪\"以当前天为结尾时的最大累计收益\"，并在每一步判断：\n",
    "\n",
    "​\t① 若 cur_sum 不利（≤0）就从当前天重新开始，\n",
    "\n",
    "​\t② 否则累加当前收益；同时用 max_sum 变量记录目前发现的最大子段和，并在更新它时记录对应的起止天数；遍历结束后，max_sum 即为最大利润，起止索引即为买入/卖出日期。\n",
    "\n",
    "**（2）时间复杂度：**\n",
    "\n",
    "只对数组做一次从头到尾的循环扫描，共执行n次迭代，所以时间复杂度为O(n)。"
   ]
  },
  {
   "cell_type": "code",
   "metadata": {
    "ExecuteTime": {
     "end_time": "2025-05-07T10:07:50.128060Z",
     "start_time": "2025-05-07T10:07:50.122848Z"
    }
   },
   "source": [
    "def max_profit_with_dates(profits):\n",
    "    n = len(profits)\n",
    "    max_sum = 0\n",
    "    buy_day = sell_day = -1\n",
    "    cur_sum = 0\n",
    "    cur_start = 0\n",
    "\n",
    "    for i in range(n):\n",
    "        # 如果当前累积 ≤ 0，就从当前的 i 重新开始\n",
    "        if cur_sum <= 0:\n",
    "            cur_sum = profits[i]\n",
    "            cur_start = i\n",
    "        else:\n",
    "            cur_sum += profits[i]\n",
    "\n",
    "        # 更新全局最优\n",
    "        if cur_sum > max_sum:\n",
    "            max_sum = cur_sum\n",
    "            buy_day  = cur_start + 1  \n",
    "            sell_day = i + 1\n",
    "\n",
    "    return max_sum, buy_day, sell_day\n",
    "\n",
    "\n",
    "# 测试\n",
    "profits = [3, 2, 1, -7, 5, 2, -1, 3, -1]\n",
    "print(\"测试数组:\", profits)\n",
    "profit, b, s = max_profit_with_dates(profits)\n",
    "print(f\" 第{b}天买入，第{s}天卖出，最大收益：{profit} \")"
   ],
   "outputs": [
    {
     "name": "stdout",
     "output_type": "stream",
     "text": [
      "测试数组: [3, 2, 1, -7, 5, 2, -1, 3, -1]\n",
      " 第5天买入，第8天卖出，最大收益：9 \n"
     ]
    }
   ],
   "execution_count": 1
  },
  {
   "cell_type": "markdown",
   "metadata": {},
   "source": [
    "## 问题 5：\n",
    "\n",
    "观察下方的分治算法（divide-and-conquer algorithm）的伪代码, 回答下面问题\n",
    "\n",
    "```latex\n",
    "DoSomething(A,p,r)\n",
    "-----\n",
    "n := r-p+1\n",
    "if n=2 and A[p]>A[r] then\n",
    "    swap A[p] and A[r]\n",
    "else if n >= 3 then\n",
    "    m = ceil(2n/3)\n",
    "    DoSomething(A,p,p+m-1)\n",
    "    DoSomething(A,r-m+1,r)\n",
    "    DoSomething(A,p,p+m-1)  \n",
    "    \n",
    "---\n",
    "first call: DoSomething(A,1,n)\n",
    "```\n",
    "\n",
    "note：$ceil(2n/3)=\\left\\lceil {2n/3} \\right\\rceil$；$:=$ 表示赋值, 等价于 $\\to$；A是一个包含n的整数元素的数组, \n",
    "\n",
    "1. 写出该算法时间复杂度的递归公式, 并求解其对应的渐进表示\n",
    "2. 描述一下该算法的功能, 并判断是否是最高效的解决方案\n",
    "3. 使用python编程实现上述算法或其对应的更高效版本的算法\n"
   ]
  },
  {
   "cell_type": "markdown",
   "metadata": {},
   "source": [
    "idea:\n",
    "### 问题(1)：\n",
    "递归公式：\n",
    "\n",
    "$$\n",
    "T(n) = \n",
    "\\begin{cases} \n",
    "2n & \\text{if } n \\leq 2 \\\\\n",
    "3T\\left(\\frac{2n}{3}\\right) + O(1) & \\text{otherwise}\n",
    "\\end{cases}\n",
    "$$\n",
    "\n",
    "递归展开过程：\n",
    "\n",
    "假设 $n$ 足够大且满足 $n = 3^{k/2}$，则递归深度为：\n",
    "$$\n",
    "k = \\log_{3/2} n\n",
    "$$\n",
    "\n",
    "逐层展开递归式：\n",
    "$$\n",
    "\\begin{aligned}\n",
    "T(n) &= 3T\\left(\\frac{2n}{3}\\right) + c \\\\\n",
    "&= 3\\left[3T\\left(\\left(\\frac{2}{3}\\right)^2 n\\right) + c\\right] + c \\\\\n",
    "&= 3^2 T\\left(\\left(\\frac{2}{3}\\right)^2 n\\right) + 3c + c \\\\\n",
    "&\\ \\ \\vdots \\\\\n",
    "&= 3^k T\\left(\\left(\\frac{2}{3}\\right)^k n\\right) + c\\sum_{i=0}^{k-1}3^i\n",
    "\\end{aligned}\n",
    "$$\n",
    "\n",
    "当递归终止时，$\\left(\\frac{2}{3}\\right)^k n ≤ 2$，即：$k = \\log_{3/2}\\frac{n}{2}$\n",
    "\n",
    "代入得：\n",
    "$$\n",
    "T(n) = 3^{\\log_{3/2}n} \\cdot O(1) + c \\cdot \\frac{3^k - 1}{2}\n",
    "$$\n",
    "\n",
    "计算主导项：\n",
    "$$\n",
    "3^{\\log_{3/2}n} = n^{\\log_{3/2}3} \\approx n^{2.7095}\n",
    "$$\n",
    "\n",
    "因此，渐近时间复杂度为：\n",
    "$$\n",
    "T(n) = \\Theta\\left(n^{\\log_{3/2}3}\\right)\n",
    "$$"
   ]
  },
  {
   "metadata": {},
   "cell_type": "markdown",
   "source": [
    "### 问题(2)：\n",
    "**算法功能：**\n",
    "\n",
    "​\t该算法是一种基于分治策略的排序算法：\n",
    "\n",
    "   * n=2时：直接比较数组中的两个元素，如果顺序错误则进行交换，以保证这两个元素有序。\n",
    "\n",
    "   * n≥3时：将数组划分为前三分之二部分和后三分之二部分，然后依次递归执行以下操作：\n",
    "     ① 对数组的前2n/3个元素进行排序；\n",
    "     ② 对数组的后2n/3个元素进行排序；\n",
    "     ③ 再次对数组的前2n/3个元素进行排序。\n",
    "     通过三次递归调用确保整个数组最终达到有序状态。\n",
    "  \n",
    "**是否最优:**  \n",
    "​\t该算法的时间复杂度为$T(n) = \\Theta\\left(n^{\\log_{3/2}3}\\right)$，但是而高效排序算法（如：快速排序、归并排序）的时间复杂度为$\\Theta\\left(n{logn}\\right)$，所以不是解决排序问题的最高效方案。"
   ]
  },
  {
   "metadata": {},
   "cell_type": "markdown",
   "source": [
    "### 问题(3)：\n",
    "​\t原代码存在的问题：原代码在处理较大数组时可能会导致递归深度过大，从而引发栈溢出。并且重复对前2n/3个元素进行排序。因此采用迭代来代替递归，通过使用栈来模拟递归调用，避免递归深度过大的问题。同时通过栈的先进后出特性，避免重复计算，确保每个子数组只被处理一次。"
   ]
  },
  {
   "cell_type": "markdown",
   "metadata": {},
   "source": [
    "answer:"
   ]
  },
  {
   "cell_type": "code",
   "metadata": {
    "ExecuteTime": {
     "end_time": "2025-05-07T11:23:11.668231Z",
     "start_time": "2025-05-07T11:23:11.662619Z"
    }
   },
   "source": [
    "from math import ceil\n",
    "\n",
    "def DoSomething(A, p, r):\n",
    "    n = r - p + 1\n",
    "    if n == 2 and A[p] > A[r]:\n",
    "        A[p], A[r] = A[r], A[p]\n",
    "    elif n >= 3:\n",
    "        m = ceil(2 * n / 3)\n",
    "        DoSomething(A, p, p + m - 1)\n",
    "        DoSomething(A, r - m + 1, r)\n",
    "        DoSomething(A, p, p + m - 1)\n",
    "\n",
    "def improved_DoSomething(A):\n",
    "    stack = [(0, len(A) - 1)]\n",
    "    \n",
    "    while stack:\n",
    "        p, r = stack.pop()\n",
    "        n = r - p + 1\n",
    "        \n",
    "        if n == 2 and A[p] > A[r]:\n",
    "            A[p], A[r] = A[r], A[p]\n",
    "        elif n >= 3:\n",
    "            m = ceil(2 * n / 3)\n",
    "            stack.append((p, p + m - 1))\n",
    "            stack.append((r - m + 1, r))\n",
    "            stack.append((p, p + m - 1))\n",
    "\n",
    "# 测试\n",
    "A = [5, 8, 2, 4, 6, 1, 9, 3, 7]\n",
    "print(\"排序前的结果为：\", A)\n",
    "improved_DoSomething(A)\n",
    "print(\"排序后的结果为：\", A)"
   ],
   "outputs": [
    {
     "name": "stdout",
     "output_type": "stream",
     "text": [
      "排序前的结果为： [5, 8, 2, 4, 6, 1, 9, 3, 7]\n",
      "排序后的结果为： [1, 2, 3, 4, 5, 6, 7, 8, 9]\n"
     ]
    }
   ],
   "execution_count": 2
  },
  {
   "cell_type": "markdown",
   "metadata": {},
   "source": [
    "## 问题 6：\n",
    "\n",
    "给定一个大小为 `n` 的数组 `nums` , 返回其中的多数元素。多数元素是指在数组中出现次数 **大于** `⌊ n/2 ⌋` 的元素。\n",
    "\n",
    "你可以假设数组是非空的, 并且给定的数组总是存在多数元素。\n",
    "\n",
    "1. 设计一个算法找到给定数组的多数元素, 分析算法设计思路, 计算算法时间复杂度, 使用python编程实现\n",
    "2. \\* 设计时间复杂度为 O(n)、空间复杂度为 O(1) 的算法解决此问题, 分析算法设计思路, 使用python编程实现\n",
    "\n",
    "e.g.:\n",
    "---\n",
    "1. nums=[3,2,3], 返回3\n",
    "2. nums=[2,2,1,1,1,2,2], 返回2\n"
   ]
  },
  {
   "cell_type": "markdown",
   "metadata": {},
   "source": [
    "idea：   \n",
    "**（1）算法设计：**\n",
    "\n",
    "Boyer-Moore投票算法是一个非常高效的线性时间算法，用于解决多数元素问题。其核心思想是通过一次遍历数组，利用候选者和计数器来跟踪可能的多数元素。\n",
    "\n",
    "- 初始化候选者 candidate为数组的第一个元素，计数器 count为1。\n",
    "- 遍历数组中的每一个元素：\n",
    "  - 如果当前元素与candidate相同，则将 count加 1。\n",
    "  - 如果当前元素与candidate不同，则将candidate减1。\n",
    "  - 如果count变为 0，则将当前元素设为新的candidate，并将count 重置为1。\n",
    "- 遍历结束后，candidate即为可能的多数元素。\n",
    "\n",
    "**（2）时间复杂度：**\n",
    "Boyer-Moore投票算法只需要遍历数组一次，因此时间复杂度为 $O(n)$，其中 $n$ 是数组的长度。空间复杂度为 $O(1)$，因为我们只使用了常数级的额外空间。  "
   ]
  },
  {
   "cell_type": "code",
   "metadata": {
    "ExecuteTime": {
     "end_time": "2025-05-07T11:32:16.162655Z",
     "start_time": "2025-05-07T11:32:16.159157Z"
    }
   },
   "source": [
    "def find_majority_element(nums):\n",
    "    candidate = None\n",
    "    count = 0\n",
    "    \n",
    "    for num in nums:\n",
    "        if count == 0:\n",
    "            candidate = num\n",
    "            count = 1\n",
    "        elif num == candidate:\n",
    "            count += 1\n",
    "        else:\n",
    "            count -= 1\n",
    "    \n",
    "    return candidate\n",
    "\n",
    "# 测试\n",
    "nums = [3, 3, 4, 2, 4, 4, 2, 4, 4]\n",
    "majority_element = find_majority_element(nums)\n",
    "print(\"多数元素:\", majority_element)"
   ],
   "outputs": [
    {
     "name": "stdout",
     "output_type": "stream",
     "text": [
      "多数元素: 4\n"
     ]
    }
   ],
   "execution_count": 3
  },
  {
   "cell_type": "markdown",
   "metadata": {},
   "source": [
    "## 问题 7：\n",
    "\n",
    "给定一个包含不同整数元素的数组 $ A[1..n]$ ,并且满足条件：$A[1]>A[2]$ 并且 $A[n-1]<A[n]$; 规定：如果一个元素比它两边的邻居元素都小, 即：$A[x]<A[x-1], A[x]<A[x+1]$ , 称这个元素A[x]为“局部最小”。通过遍历一次数组, 我们可以很容易在 $O(n)$的时间复杂度下找到一个局部最小值, \n",
    "\n",
    "\n",
    "1. 分析该问题, 设计一个算法在$O(logn)$的时间复杂度下找到一个局部最小(返回数值), 要求：分析算法设计思路, 并且使用python编程实现\n",
    "2. \\* 设计算法找出所有局部最小值, 分析算法设计思路, 并使用python编程实现\n",
    "\n",
    "e.g.:\n",
    "---\n",
    "A=[9, 3, 7, 2, 1, 4, 5 ] 时,  局部最小元素为 3, 1\n"
   ]
  },
  {
   "cell_type": "markdown",
   "metadata": {},
   "source": [
    "idea：  \n",
    "**（1）算法设计：**\n",
    "\n",
    "Boyer-Moore投票算法是一个非常高效的线性时间算法，用于解决多数元素问题。其核心思想是通过一次遍历数组，利用候选者和计数器来跟踪可能的多数元素。\n",
    "\n",
    "- 初始化候选者 candidate为数组的第一个元素，计数器 count = 1。\n",
    "- 遍历数组中的每一个元素：\n",
    "  - 如果当前元素与candidate相同，则将count减1（即 count = count + 1）\n",
    "  - 如果当前元素与candidate不同，则将 count减1（即count = count - 1）\n",
    "  - 如果count变为 0，则将当前元素设为新的candidate，并将count 重置为1\n",
    "- 遍历结束后，candidate即为可能的多数元素。由于题目假设数组总是存在多数元素，因此上述步骤后得到的candidate就是我们要求的多数元素\n",
    "\n",
    "**（2）时间复杂度：**\n",
    "Boyer-Moore投票算法只需要遍历数组一次，因此时间复杂度为 $O(n)$，其中 $n$ 是数组的长度。"
   ]
  },
  {
   "cell_type": "code",
   "metadata": {
    "ExecuteTime": {
     "end_time": "2025-05-07T11:48:55.593766Z",
     "start_time": "2025-05-07T11:48:55.589814Z"
    }
   },
   "source": [
    "def find_min(A):\n",
    "    mins = []\n",
    "    \n",
    "    for i in range(len(A)):\n",
    "        if i == 0:\n",
    "            # 检查第一个元素是否是局部最小值\n",
    "            if A[i] < A[i + 1]:\n",
    "                mins.append(A[i])\n",
    "        elif i == len(A) - 1:\n",
    "            # 检查最后一个元素是否是局部最小值\n",
    "            if A[i] < A[i - 1]:\n",
    "                mins.append(A[i])\n",
    "        else:\n",
    "            # 检查中间元素是否是局部最小值\n",
    "            if A[i] < A[i - 1] and A[i] < A[i + 1]:\n",
    "                mins.append(A[i])\n",
    "    \n",
    "    return mins\n",
    "\n",
    "# 测试\n",
    "A = [9, 3, 7, 2, 1, 4, 5]\n",
    "mins = find_min(A)\n",
    "print(\"局部最小值：\", mins)"
   ],
   "outputs": [
    {
     "name": "stdout",
     "output_type": "stream",
     "text": [
      "局部最小值： [3, 1]\n"
     ]
    }
   ],
   "execution_count": 4
  },
  {
   "cell_type": "markdown",
   "metadata": {},
   "source": [
    "## 问题 8：\n",
    "\n",
    "给定包含n个不同数字的一组数, 寻找一种基于比较的算法在这组数中找到k个最小的数字, 并按顺序输出它们。\n",
    "\n",
    "1. 将n个数先进行排序, 然后按顺序输出最小的k个数。要求：选择合适的排序算法实现上述操作, 计算算法时间复杂度, 并使用python编程实现。\n",
    "2. 建立一个包含这n个数的堆（heap）, 并且调用 k 次Extract-min 按顺序输出最小的k个数。使用往空堆中不断插入元素的方法建立堆, 分析这种方法建堆的时间复杂度, 并使用python编程实现\n",
    "3. \\* 假设数组中包含的数据总数目超过了计算机的存储能力, 请设计一个算法, 找到这堆数据的前k小的数值, 计算时间复杂度, 并使用python实现该算法, 假设计算机一定能存储k个数据。\n",
    "\n",
    "e.g.：\n",
    "---\n",
    "数组arr=[5,4,3,2,6,1,88,33,22,107] 的前3个最小数据为：1, 2, 3\n"
   ]
  },
  {
   "cell_type": "markdown",
   "metadata": {},
   "source": [
    "idea：  \n",
    "### 问题(1)：\n",
    "**（1）算法设计：**  \n",
    "    步骤：  \n",
    "​\t① 首先对包含n个不同数字的一组数进行排序。排序后，数组中的元素将按照从小到大的顺序排列。  \n",
    "​\t② 选择前k个元素 - 排序完成后，直接选取排序后的数组中前k个元素，这些元素即为原数组中最小的k个数字。   \n",
    "        \n",
    "**（2）时间复杂度：**$O(nlogn)$"
   ]
  },
  {
   "cell_type": "code",
   "metadata": {
    "ExecuteTime": {
     "end_time": "2025-05-07T11:58:58.829570Z",
     "start_time": "2025-05-07T11:58:58.825262Z"
    }
   },
   "source": [
    "# 采用归并排序\n",
    "def merge_sort(arr):\n",
    "    if len(arr) > 1:\n",
    "        mid = len(arr) // 2\n",
    "        left_half = arr[:mid]\n",
    "        right_half = arr[mid:]\n",
    "\n",
    "        merge_sort(left_half)\n",
    "        merge_sort(right_half)\n",
    "\n",
    "        i = j = k = 0\n",
    "\n",
    "        while i < len(left_half) and j < len(right_half):\n",
    "            if left_half[i] < right_half[j]:\n",
    "                arr[k] = left_half[i]\n",
    "                i += 1\n",
    "            else:\n",
    "                arr[k] = right_half[j]\n",
    "                j += 1\n",
    "            k += 1\n",
    "\n",
    "        while i < len(left_half):\n",
    "            arr[k] = left_half[i]\n",
    "            i += 1\n",
    "            k += 1\n",
    "\n",
    "        while j < len(right_half):\n",
    "            arr[k] = right_half[j]\n",
    "            j += 1\n",
    "            k += 1\n",
    "\n",
    "def find_smallest(arr, k):\n",
    "    merge_sort(arr)\n",
    "    return arr[:k]\n",
    "\n",
    "# 测试\n",
    "arr = [5,4,3,2,6,1,88,33,22,107] \n",
    "k = 3\n",
    "result = find_smallest(arr, k)\n",
    "print(result)"
   ],
   "outputs": [
    {
     "name": "stdout",
     "output_type": "stream",
     "text": [
      "[1, 2, 3]\n"
     ]
    }
   ],
   "execution_count": 5
  },
  {
   "metadata": {},
   "cell_type": "markdown",
   "source": [
    "idea：  \n",
    "### 问题(2)：\n",
    "**（1）算法设计：**  \n",
    "    步骤：  \n",
    "​\t① 建立最小堆,将n个数字插入到一个空堆中，形成一个最小堆（min-heap）。在最小堆中，根节点总是最小的元素。  \n",
    "​\t② Extract-min操作,对最小堆执行k次Extract-min操作，每次操作都会移除并返回堆中的最小元素，这样就可以得到最小的k个数字。  \n",
    "        \n",
    "**（2）时间复杂度：**$O(nlogn)$  \n",
    "​\t建立最小堆的时间复杂度为$O(n)$。\n",
    "​\t每次Extract-min操作的时间复杂度为$O(logn)$，共进行k次，总时间为$O(klogn)$。\n",
    "​\t总时间复杂度为$O(n+klogn)$。"
   ]
  },
  {
   "cell_type": "markdown",
   "metadata": {},
   "source": [
    "## 问题 9：\n",
    "\n",
    "**选择问题**:给定一个包含n个未排序值的数组A和一个$k≤n$的整数, 返回A中最小的第k项。\n",
    "\n",
    "在课堂上, 学了一个简单的O(n)随机算法来解决选择问题。事实上还有一种更复杂的最坏情况下时间复杂度为$O(n)$ 的选择算法。假设使用一个黑盒过程来实现这个O(n)选择算法: 给定一个数组A、 $p < r$ 和 k,  $BB(A, p, r, k)$ 可以在$O(r−p+ 1)$时间内找到并报告$A[p..r]$中第k小的项的下标。假设你可以在线性时间内处理Partition过程。\n",
    "\n",
    "1. 请分析如何修改 Quicksork 算法可以使其最差情况下的运行时间为 $O(nlogn)$, 使用伪代码实现, 并分析为何修改后的版本最差情况的运行时间为$O(nlogn)$\n",
    "\n",
    "note: 伪代码中, 你可以直接调用用` BB(A,p,r,k)`这个函数用于表示在最坏情况下时间复杂度为$O(n)$的选择算法；\n",
    "\n",
    "\n",
    "\n",
    "2. 找到一个更好的算法报告数组A中的前k小的项, 使用伪代码表示你的算法, 并分析你算法的时间复杂度。\n",
    "\n",
    "举例：A=[13, 3, 7, 9, 11, 1, 15, 2, 8, 10, 12, 16, 14, 5], 当k=4时, 应该报告1, 2, 3, 4\n",
    "\n",
    "note： 最直观的方法就是先将数组A排序, 然后从左向右报告其前k项, 这样操作的时间复杂度为$O(nlogn)$. 调用用` BB(A,p,r,k)`设计一个算法使其报告无序数组A的前k项, 满足时间复杂度好于$\\Theta(nlogn)$, 并且当$k=\\sqrt{n}$时, 你设计的算法时间复杂度应该为$\\Theta(n)$.\n",
    "\n",
    "\n",
    "\n",
    "3. 给定一个大小为n的数组, 找到一个 时间复杂度为$O(n log k)$ 的算法, 该算法将A中的元素重新排序, 使它们被划分为k个部分, 每个部分的元素小于或等于下一部分的元素。假设n和k都是2的幂。使用伪代码表示你的算法, 并分析时间复杂度。\n",
    "\n",
    "e.g.:\n",
    "---\n",
    "数组：[1,  3,  5,  7,  9,  11,  13,  15,  2,  4,  6,  8,  10,  12,  16,  14], k=4, \n",
    "\n",
    "对应重新排序的数组为：[1,  3,  2,  4]  [7,  6,  5,  8]  [12,  11,  10,  9]  [13,  14,  16,  15]\n",
    "\n",
    "\n"
   ]
  },
  {
   "cell_type": "markdown",
   "metadata": {},
   "source": [
    "idea：  \n",
    "### 问题(1)：  \n",
    "**分析：**  \n",
    "    利用 BB(A, p, r, k) 找到数组 A[p..r] 中间位置的元素（如第 $\\lfloor \\frac{r-p+1}{2} \\rfloor$ 小的元素）作为基准，确保每次划分平衡，避免最差情况 $O(n^2)$。通过递归划分，使递归树高度为 $O(\\log n)$，每层处理 $O(n)$，总时间 $O(n \\log n)$。 "
   ]
  },
  {
   "metadata": {},
   "cell_type": "code",
   "outputs": [],
   "execution_count": null,
   "source": [
    "# 伪代码实现\n",
    "# function QuickSort(A, p, r):  \n",
    "#     if p < r:  \n",
    "#         k = (r - p + 1) // 2  \n",
    "#         q = BB(A, p, r, k)  \n",
    "#         Partition(A, p, r, q)\n",
    "#         QuickSort(A, p, q - 1)  \n",
    "#         QuickSort(A, q + 1, r) "
   ]
  },
  {
   "metadata": {},
   "cell_type": "markdown",
   "source": [
    "idea：  \n",
    "### 问题(2)：  \n",
    "**（1）算法设计：**  \n",
    "- 目标：在无序数组中高效提取前k小元素，时间复杂度优于 $O(n \\log n)$\n",
    "\n",
    "\n",
    "- 核心策略  \n",
    "采用两阶段处理：\n",
    "\t- 第一阶段：使用黑盒函数 $BB(A, p, r, k)$ 找到数组中第k小元素 $x$（$O(n)$ 时间）\n",
    "\t- 第二阶段：遍历数组，收集所有小于等于 $x$ 的元素（$O(n)$ 时间）\n",
    "\n",
    "- 正确性保证\n",
    "\t- 若数组中存在重复元素，则 $x$ 为第k小元素\n",
    "\t- 所有小于 $x$ 的元素必然属于前k小项\n",
    "\t- 等于 $x$ 的元素最多有 $k$ 个\n",
    "    \n",
    "**（2）时间复杂度：**\n",
    "- 第一阶段：$O(n)$\n",
    "- 第二阶段：$O(n)$\n",
    "- 总时间复杂度：$O(n)$"
   ]
  },
  {
   "metadata": {},
   "cell_type": "code",
   "outputs": [],
   "execution_count": null,
   "source": [
    "# 伪代码\n",
    "# function FindTopK(A, k):\n",
    "#     if k == 0:\n",
    "#         return []\n",
    "#     x = BB(A, 0, len(A)-1, k)  // O(n)时间找到第k小元素\n",
    "#     result = []\n",
    "#     for num in A:\n",
    "#         if num < x:\n",
    "#             result.append(num)\n",
    "#     // 若result长度不足k，补充等于x的元素\n",
    "#     count = number of elements equal to x in A\n",
    "#     need = k - len(result)\n",
    "#     for num in A:\n",
    "#         if num == x and need > 0:\n",
    "#             result.append(num)\n",
    "#             need -= 1\n",
    "#     return result"
   ]
  },
  {
   "metadata": {},
   "cell_type": "markdown",
   "source": [
    "idea：  \n",
    "### 问题(3)：  \n",
    "**（1）算法设计：**  \n",
    "- 目标：将数组划分为k个部分，满足：\n",
    "    - 每部分元素 ≤ 下一部分\n",
    "    - 总时间复杂度为 $O(n \\log k)$\n",
    "\n",
    "- 核心策略:递归划分：\n",
    "\t1. 每次将当前子数组划分为两部分：\n",
    "        - 使用BB函数找到中间划分点\n",
    "        - 使得前m个元素 ≤ 后n-m个元素\n",
    "    2. 递归处理每个子数组，直到划分出k个部分\n",
    "    3. 终止条件：当子数组长度为n/k时停止划分\n",
    "\n",
    "- 优化点\n",
    "    - 每次划分的规模为n\n",
    "    - 递归深度为 $\\log k$\n",
    "    \n",
    "**（2）时间复杂度：**\n",
    "- 每次划分操作：$O(n)$\n",
    "- 递归深度：$\\log k$\n",
    "- 总时间复杂度：$O(n \\log k)$\n"
   ]
  },
  {
   "metadata": {},
   "cell_type": "code",
   "outputs": [],
   "execution_count": null,
   "source": [
    "# 伪代码\n",
    "# function ReorderArray(A, n, k):\n",
    "#     def partition(A, left, right, target_size):\n",
    "#         if right - left + 1 <= target_size:\n",
    "#             return\n",
    "#         m = (right - left + 1) // 2  \n",
    "#         pivot = BB(A, left, right, m)  \n",
    "#         swap A[pivot] with A[right]\n",
    "#         i = left\n",
    "#         for j = left to right-1:\n",
    "#             if A[j] < A[right]:\n",
    "#                 swap A[i] with A[j]\n",
    "#                 i += 1\n",
    "#         swap A[i] with A[right]\n",
    "#         // 递归处理左右子数组\n",
    "#         partition(A, left, i-1, target_size)\n",
    "#         partition(A, i+1, right, target_size)\n",
    "# \n",
    "#     target_size = n // k\n",
    "#     partition(A, 0, n-1, target_size)\n",
    "#     return A"
   ]
  },
  {
   "cell_type": "markdown",
   "metadata": {},
   "source": [
    "## 问题 10：\n",
    "\n",
    "给定一个包含m个**字符串**的数组A, 其中不同的字符串可能有不同的字符数, 但数组中所有字符串的字符总数为n。设计一个算法在 $O(n)$ 时间内对字符串进行排序, 分析算法设计方案, 计算其时间复杂度, 并基于python编程实现该算法。请注意, 假设字符串只包含\"a\",\"b\",...,\"z\", \n",
    "\n",
    "\n",
    "\n",
    "举例1：数组A=[\"a\", \"da\", \"bde\", \"ab\", \"bc\", \"abdc\", \"cdba\"], 排序后的数组应该为：['a', 'ab', 'abdc', 'bc', 'bde', 'cdba', 'da']\n",
    "\n",
    "\n",
    "\n",
    "举例2：数组A=['ab', 'a', 'b', 'abc', 'ba', 'c'], 排序后的数组应该为：\n",
    "\n",
    "['a', 'ab', 'abc', 'b', 'ba', 'c']\n",
    "\n",
    "\n",
    "\n",
    "举例3：数组A=['aef', 'yzr', 'wr', 'ab', 'bhjc', 'lkabdc', 'pwcdba'],  排序后的数组应该为：['ab', 'aef', 'bhjc', 'lkabdc', 'pwcdba', 'wr', 'yzr']\n",
    "\n",
    "\n",
    "\n",
    "note：\n",
    "\n",
    "-  两个字符之间的比较可以考虑比较他们对应的ASCII码值；\n",
    "- python中可以使用`ord(\"a\")`返回字符 “a”对应的ASCII值"
   ]
  },
  {
   "cell_type": "markdown",
   "metadata": {},
   "source": [
    "idea:  \n",
    "**（1）算法设计：**   \n",
    "由于字符串只包含26个小写字母（a-z），因此使用基数排序来达到线性时间复杂度：\n",
    "1. 确定最长字符串长度L：\n",
    "   - 遍历所有字符串，记录最大长度\n",
    "2. 逐位进行稳定的计数排序：\n",
    "   - 从最低位（最右边字符）开始\n",
    "   - 向最高位（最左边字符）逐位排序\n",
    "   - 使用字符的ASCII值（减去ord('a')）作为索引进行计数排序\n",
    "3. 排序过程：\n",
    "   - 对每一位字符执行稳定的计数排序\n",
    "   - 确保相同字符的相对顺序保持不变\n",
    "\n",
    "**（2）时间复杂度：**   \n",
    "- 每一位进行一次计数排序，耗时 $O(m + n)$，其中$m$：字符串数量，$n$：字符总数\n",
    "- 最长字符串长度为 $L$，共执行 $L$ 次计数排序\n",
    "- 由于字符串总字符数是 $n$，则 $L \\leq n$\n",
    "- 总时间复杂度：$O(n)$"
   ]
  },
  {
   "cell_type": "code",
   "metadata": {
    "ExecuteTime": {
     "end_time": "2025-05-07T12:24:20.049006Z",
     "start_time": "2025-05-07T12:24:20.043760Z"
    }
   },
   "source": [
    "def radix_sort_strings(A):\n",
    "    if not A:\n",
    "        return A\n",
    "    max_len = max(len(s) for s in A)\n",
    "\n",
    "    # 从最低位到最高位进行排序\n",
    "    for i in range(max_len - 1, -1, -1):\n",
    "        buckets = [[] for _ in range(27)]  # 0 代表短字符串补位，其它 1-26 代表 'a'-'z'\n",
    "        for s in A:\n",
    "            if i < len(s):\n",
    "                index = ord(s[i]) - ord('a') + 1\n",
    "            else:\n",
    "                index = 0\n",
    "            buckets[index].append(s)\n",
    "        A = [s for bucket in buckets for s in bucket]\n",
    "        \n",
    "    return A\n",
    "# 测试\n",
    "A1 = [\"a\", \"da\", \"bde\", \"ab\", \"bc\", \"abdc\", \"cdba\"]\n",
    "A2 = ['ab', 'a', 'b', 'abc', 'ba', 'c']\n",
    "A3 = ['aef', 'yzr', 'wr', 'ab', 'bhjc', 'lkabdc', 'pwcdba']\n",
    "\n",
    "print(radix_sort_strings(A1))\n",
    "print(radix_sort_strings(A2))\n",
    "print(radix_sort_strings(A3))"
   ],
   "outputs": [
    {
     "name": "stdout",
     "output_type": "stream",
     "text": [
      "['a', 'ab', 'abdc', 'bc', 'bde', 'cdba', 'da']\n",
      "['a', 'ab', 'abc', 'b', 'ba', 'c']\n",
      "['ab', 'aef', 'bhjc', 'lkabdc', 'pwcdba', 'wr', 'yzr']\n"
     ]
    }
   ],
   "execution_count": 6
  }
 ],
 "metadata": {
  "language_info": {
   "name": "python"
  },
  "kernelspec": {
   "name": "python3",
   "language": "python",
   "display_name": "Python 3 (ipykernel)"
  }
 },
 "nbformat": 4,
 "nbformat_minor": 2
}
