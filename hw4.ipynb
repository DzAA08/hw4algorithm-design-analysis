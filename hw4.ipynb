{
 "cells": [
  {
   "cell_type": "markdown",
   "metadata": {},
   "source": [
    "## algorithm design and anlysis-2025 spring  homework 4\n",
    "**Deadline**：2025.5.14\n",
    "\n",
    "**name**：但博之\n",
    "\n",
    "\n",
    "note：\n",
    "---\n",
    "1. 带有\\*的题目，申请免上课的同学，必须完成，其他同学选作；\n",
    "2. 请独立完成，如求助了他人或者大模型，请著明，并且不可省略算法分析部分；\n",
    "4. 如若作答有雷同，全部取消成绩；\n",
    "3. 需要书面作答的题目，可以通过引用图片的形式添加，但是注意上传项目时包含所引用的图片的源文件；\n",
    "4. $log_n$ 默认表示$log_2{n}$;"
   ]
  },
  {
   "cell_type": "markdown",
   "metadata": {},
   "source": [
    "## 问题 1 \n",
    "**最小生成树（Minimum Spanning Tree）**\n",
    "\n",
    "设  **G**  为一个带权重的连通无向图，且所有边的权重均不相等。令$e_i$ 为权重第 $i$ 小的边。最小生成树（MST）是否必须包含 $e_1$ ? 同理，是否必须包含 $e_2$ 和 $e_3$ ? 若必须包含，请给出证明；否则，请构造反例。需从基本原理论证，不能依赖割引理(cut lemma) 或 Prim/Kruskal算法的正确性。\n"
   ]
  },
  {
   "cell_type": "markdown",
   "metadata": {},
   "source": [
    "answer:\n",
    "![hw4_1](/fig/hw4_1.jpg)"
   ]
  },
  {
   "cell_type": "markdown",
   "metadata": {},
   "source": [
    "## 问题 2 \n",
    "**瓶颈生成树（Bottleneck Spanning Tree）**\n",
    "\n",
    "带有权重的无向图 $G(V,E,w)$ 的瓶颈生成树，表现为：在所有生成树中，最大权重边的权重值最小。即，BST $T$ 最小化瓶颈损失 $c(T)=max_{e \\in T}{w(e)}$。\n",
    "\n",
    "1. 证明 $G$ 的每一个最小生成树（MST）都是瓶颈生成树（BST）\n",
    "2. 设计一个线性时间复杂度的算法：， 对于一个图 $G(V,E,w)$ 和一个整数 $b$，判断图 $ G$ 是否存在一个瓶颈生成树，其最大权重边的权重不超过 $b$，分析算法设计思路，并基于python编程实现。\n",
    "3. 设计一个线性时间复杂度的算法：对于给定的图 $G(V,E,w)$，找到其瓶颈生成树，分析算法设计思路，并基于python编程实现。"
   ]
  },
  {
   "cell_type": "markdown",
   "metadata": {},
   "source": [
    "#### 问题(1)：\n",
    "证明：\n",
    "要证明每个最小生成树（MST）都是瓶颈生成树（BST），我们采用反证法：\n",
    "\n",
    "1. ​假设前提​：\n",
    "   - 设T是一个最小生成树（MST）\n",
    "   - 设T的最大边权重为$w_{max}$\n",
    "\n",
    "2. ​反证假设​：\n",
    "   - 假设存在另一个生成树T'，其最大边权重$w'_{max} < w_{max}$\n",
    "\n",
    "3. ​矛盾推导​：\n",
    "   - 由于T'的所有边权重都不超过$w'_{max}$，而$w'_{max} < w_{max}$\n",
    "   - 这意味着T'的总权重必然小于T的总权重（因为所有边权重都严格小于T的最大边权重）\n",
    "   - 这与T是最小生成树的定义矛盾\n",
    "\n",
    "4. ​结论​：\n",
    "   - 因此，不存在这样的生成树T'\n",
    "   - 即MST的最大边权重是所有生成树中最小的\n",
    "   - 根据定义，MST必为BST"
   ]
  },
  {
   "metadata": {},
   "cell_type": "markdown",
   "source": [
    "#### 问题(2)：\n",
    "idea： \n",
    "\n",
    "判断是否存在最大边权不超过B的瓶颈生成树 \n",
    "**（1）算法设计：**  \n",
    "步骤：\n",
    "   - 移除图中所有权重大于 b的边。\n",
    "   - 检查剩余图是否连通。若连通，则存在符合条件的 BST。\n",
    "\n",
    "**（2）时间复杂度：**  $O(V+E)$。"
   ]
  },
  {
   "cell_type": "code",
   "metadata": {
    "ExecuteTime": {
     "end_time": "2025-05-07T14:38:55.237835Z",
     "start_time": "2025-05-07T14:38:55.232635Z"
    }
   },
   "source": [
    "def has_bottleneck(n, edges, b):\n",
    "    parent = list(range(n))\n",
    "    def find(u):\n",
    "        while parent[u] != u:\n",
    "            parent[u] = parent[parent[u]]\n",
    "            u = parent[u]\n",
    "        return u\n",
    "    \n",
    "    def union(u, v):\n",
    "        pu, pv = find(u), find(v)\n",
    "        if pu != pv:\n",
    "            parent[pv] = pu\n",
    "    \n",
    "    for u, v, w in edges:\n",
    "        if w <= b:\n",
    "            union(u, v)\n",
    "    \n",
    "    root = find(0)\n",
    "    return all(find(i) == root for i in range(n))\n",
    "\n",
    "# 测试\n",
    "n = 3\n",
    "edges = [(0, 1, 1), (1, 2, 2), (0, 2, 3)]\n",
    "print(has_bottleneck(n, edges, 2))\n",
    "print(has_bottleneck(n, edges, 1))"
   ],
   "outputs": [
    {
     "name": "stdout",
     "output_type": "stream",
     "text": [
      "True\n",
      "False\n"
     ]
    }
   ],
   "execution_count": 1
  },
  {
   "metadata": {},
   "cell_type": "markdown",
   "source": [
    "#### 问题(3)：\n",
    "idea： \n",
    "\n",
    "找到瓶颈生成树 \n",
    "**（1）算法设计：**  \n",
    "步骤：\n",
    "   - 使用二分法找到最小b，使得移除权重大于b的边后图仍连通。\n",
    "   - 在权值不超过b的边集中构造生成树）。\n",
    "\n",
    "**（2）时间复杂度：**  \n",
    "- 二分法需检查 $O(logW)$ 次（$W$为最大边权重）。\n",
    "- 每次检查连通性为 $O(V+E)$。\n",
    "- 总时间复杂度：$O((V+E)logW)$。"
   ]
  },
  {
   "metadata": {
    "ExecuteTime": {
     "end_time": "2025-05-07T14:41:57.158835Z",
     "start_time": "2025-05-07T14:41:57.153288Z"
    }
   },
   "cell_type": "code",
   "source": [
    "def find_min_b(n, edges):\n",
    "    left = min(w for _, _, w in edges)\n",
    "    right = max(w for _, _, w in edges)\n",
    "    ans = right\n",
    "    while left <= right:\n",
    "        mid = (left + right) // 2\n",
    "        if has_bottleneck(n, edges, mid):\n",
    "            ans = mid\n",
    "            right = mid - 1\n",
    "        else:\n",
    "            left = mid + 1\n",
    "    return ans\n",
    "\n",
    "def construct_bst(n, edges, b):\n",
    "    adj = [[] for _ in range(n)]\n",
    "    for u, v, w in edges:\n",
    "        if w <= b:\n",
    "            adj[u].append(v)\n",
    "            adj[v].append(u)\n",
    "    # BFS 构造生成树\n",
    "    visited = [False] * n\n",
    "    tree = []\n",
    "    from collections import deque\n",
    "    q = deque([0])\n",
    "    visited[0] = True\n",
    "    while q:\n",
    "        u = q.popleft()\n",
    "        for v in adj[u]:\n",
    "            if not visited[v]:\n",
    "                visited[v] = True\n",
    "                tree.append((u, v))\n",
    "                q.append(v)\n",
    "    return tree if len(tree) == n-1 else None\n",
    "\n",
    "# 测试\n",
    "min_b = find_min_b(n, edges)\n",
    "print(\"最小瓶颈值:\", min_b) \n",
    "\n",
    "bst_edges = construct_bst(n, edges, min_b)\n",
    "print(\"瓶颈生成树边集:\", bst_edges)"
   ],
   "outputs": [
    {
     "name": "stdout",
     "output_type": "stream",
     "text": [
      "最小瓶颈值: 2\n",
      "瓶颈生成树边集: [(0, 1), (1, 2)]\n"
     ]
    }
   ],
   "execution_count": 2
  },
  {
   "cell_type": "markdown",
   "metadata": {},
   "source": [
    "## 问题 3\n",
    "\n",
    "**道路网（Road Network）**\n",
    "\n",
    "假设有一个以图 $ G(V, E, l) $ 表示的道路网络，连接了一组城市 $ V $。我们假设该网络是有向的，并且每条道路 $(u, v) \\in E$ 都有一个非负的长度 $ l(u, v) $。一条新的道路即将被建造，因此有一个列表 $ E' $ 包含它可以连接的城市对。每对 $(u, v) \\in E'$ 都有一个对应的长度 $ l'(u, v) $。我们希望选择一对城市，使得两个城市 $ s, t \\in V $ 之间的距离减少最大。请为此问题编写一个高效的算法，并详细解释算法的正确性和复杂度。\n"
   ]
  },
  {
   "metadata": {},
   "cell_type": "markdown",
   "source": [
    "本题参考了deepseek大模型\n",
    "\n",
    "idea：  \n",
    "**（1）算法设计：**  \n",
    "步骤：\n",
    "1. 计算初始最短路径\n",
    "使用Floyd-Warshall算法计算原始图中任意两个城市之间的最短路径距离矩阵D，其中D[i][j]表示城市i到城市j的最短路径长度。\n",
    "2. 评估新道路影响\n",
    "对于每条候选新道路(u', v')：\n",
    "    - 将其添加到原图中，形成新图\n",
    "    - 重新运行Floyd-Warshall算法计算新图的最短路径矩阵D'\n",
    "    - 计算s→t的最短路径减少量：Δ = D[s][t] - D'[s][t]\n",
    "\n",
    "3. 选择最优新道路\n",
    "遍历所有候选道路，选择使Δ最大的道路(u*, v*)作为最优解。\n",
    "\n",
    "**（2）算法正确性解释：**  \n",
    "- ​步骤1​：Floyd-Warshall算法能够正确计算所有城市对的最短路径，时间复杂度为O(n³)\n",
    "- ​步骤2​：通过重新计算新图的最短路径，可准确评估添加某条道路后对s→t路径的影响\n",
    "- ​步骤3​：遍历所有候选道路，确保找到使s→t路径减少量最大的解\n",
    "\n",
    "**（2）时间复杂度：**  \n",
    "- Floyd-Warshall算法：$O(n³)$\n",
    "- 更新最短路径矩阵：对每条候选道路($u'$, $v'$) ∈ $E'$，需$O(n³)$\n",
    "- 总时间复杂度：$O(|E'|·n³)$，其中$|E'|$为候选道路数量"
   ]
  },
  {
   "metadata": {
    "ExecuteTime": {
     "end_time": "2025-05-07T14:46:31.879487Z",
     "start_time": "2025-05-07T14:46:31.805301Z"
    }
   },
   "cell_type": "code",
   "source": [
    "import numpy as np\n",
    "\n",
    "def floyd_warshall(graph):\n",
    "    n = len(graph)\n",
    "    dist = np.copy(graph)\n",
    "    for k in range(n):\n",
    "        for i in range(n):\n",
    "            for j in range(n):\n",
    "                if dist[i][k] + dist[k][j] < dist[i][j]:\n",
    "                    dist[i][j] = dist[i][k] + dist[k][j]\n",
    "    return dist\n",
    "\n",
    "def find_best_new_road(V, E, l, E_prime, l_prime, s, t):\n",
    "    graph = np.full((len(V), len(V)), np.inf)\n",
    "    for i in range(len(V)):\n",
    "        graph[i][i] = 0\n",
    "    \n",
    "    for (u, v) in E:\n",
    "        graph[u][v] = l[(u, v)]\n",
    "\n",
    "    initial_dist = floyd_warshall(graph)\n",
    "    original_shortest = initial_dist[s][t]\n",
    "    \n",
    "    best_road = None\n",
    "    max_reduction = 0\n",
    "    \n",
    "    for (u_prime, v_prime) in E_prime:\n",
    "        new_graph = np.copy(graph)\n",
    "        new_graph[u_prime][v_prime] = l_prime[(u_prime, v_prime)]\n",
    "        new_dist = floyd_warshall(new_graph)\n",
    "        new_shortest = new_dist[s][t]\n",
    "        reduction = original_shortest - new_shortest\n",
    "        if reduction > max_reduction:\n",
    "            max_reduction = reduction\n",
    "            best_road = (u_prime, v_prime)\n",
    "    \n",
    "    return best_road, max_reduction\n",
    "\n",
    "# 测试\n",
    "V = [0, 1, 2, 3]\n",
    "E = [(0, 1), (1, 2), (2, 3)]\n",
    "l = {(0, 1): 1, (1, 2): 1, (2, 3): 1}\n",
    "E_prime = [(0, 3)]\n",
    "l_prime = {(0, 3): 2}\n",
    "s, t = 0, 3  # 指定源点s和终点t\n",
    "\n",
    "best_road, max_reduction = find_best_new_road(V, E, l, E_prime, l_prime, s, t)\n",
    "print(\"最佳新道路:\", best_road)\n",
    "print(\"最大距离减少量:\", max_reduction)"
   ],
   "outputs": [
    {
     "name": "stdout",
     "output_type": "stream",
     "text": [
      "最佳新道路: (0, 3)\n",
      "最大距离减少量: 1.0\n"
     ]
    }
   ],
   "execution_count": 3
  },
  {
   "cell_type": "markdown",
   "metadata": {},
   "source": [
    "## 问题 4\n",
    "\n",
    "**逃离问题**\n",
    "\n",
    "一个 $ n \\times n $ 的网格是一个无向图，由 $ n $ 行和 $ n $ 列的顶点组成，如下图所示。我们用 $(i,j)$ 表示第 $ i $ 行和第 $ j $ 列的顶点。除了边界顶点，网格中的所有顶点都有四个邻居，即满足 $ i = 1, i = n, j = 1 $ 或 $ j = n $ 的点 $(i,j)$。\n",
    "\n",
    "给定网格中的 $ m \\leq n^2 $ 个起点 $(x_1, y_1), (x_2, y_2), \\cdots , (x_m, y_m)$，逃离问题是确定是否存在 $ m $ 条顶点不相交的路径（即路径之间不相交），从这些起点到边界上的任意 $ m $ 个不同点。例如，图1中的网格存在逃离。\n",
    "\n",
    "(1) 该问题可以看作是一个最大流问题。考虑一个流网络，其中顶点和边都有容量。也就是说，进入任何给定顶点的总正流量受到容量限制。证明在具有边和顶点容量的网络中确定最大流可以简化为在具有可比大小的普通流网络上的最大流问题。更准确地说，你需要将一个具有顶点和边容量的网络 $ G = (V,E) $ 转换为另一个仅具有边容量的网络 $ G' = (V', E') $，使得两个网络上的最大流相同，并且你构建的新网络具有 $ V' = O(V) $ 个顶点和 $ E' = O(E) $ 条边。你可以假设网络是连通的。\n",
    "\n",
    "(2) 描述一个解决逃离问题的高效算法，并分析其运行时间。\n",
    "\n",
    "\n",
    "<div align=\"center\"> <img alt=\"图片\" src=\"./fig/escepe-p.png\"> </div>\n",
    "<center> 图2. 逃脱问题网格，起始顶点为黑色，其他网格顶点为白色</center>"
   ]
  },
  {
   "cell_type": "markdown",
   "metadata": {},
   "source": [
    "本题参考了deepseek大模型\n",
    "\n",
    "idea：  \n",
    "#### 问题(1)：\n",
    "\n",
    "顶点和边容量网络简化为仅有边容量的网络  \n",
    "**（1）算法设计：**  \n",
    "1. ​顶点拆分法​：\n",
    "   - 将每个顶点$v$拆分为两个顶点$v_{in}$和$v_{out}$\n",
    "   - 所有进入$v$的边改为进入$v_{in}$\n",
    "   - 所有离开$v$的边改为从$v_{out}$离开\n",
    "   - 在$v_{in}$和$v_{out}$之间添加一条边，容量为原顶点$v$的容量\n",
    "\n",
    "2. ​边保留处理​：\n",
    "   - 原边容量保持不变\n",
    "   - 原边$(u,v)$将转换为$u_{out}→v_{in}$，容量与原边相同\n",
    "\n",
    "**（2）时间复杂度：**  构造新网络的时间复杂度为$O(V+E)$，其中$V$是原顶点数，$E$是原边数。"
   ]
  },
  {
   "metadata": {},
   "cell_type": "markdown",
   "source": [
    "#### 问题(2)：\n",
    "\n",
    "逃离问题的高效算法\n",
    "**（1）算法设计：**  \n",
    "1. ​网络构建​：\n",
    "   - 将每个网格顶点$(i,j)$拆分为$in(i,j)$和$out(i,j)$\n",
    "   - 边$in(i,j)→out(i,j)$的容量为1（顶点容量）\n",
    "   - 相邻顶点间的边转换为$out(i,j)→in(k,l)$，容量为1（边容量）\n",
    "   - 超级源点$S$连接到每个起点$(x_i,y_i)$的$in$节点，容量为1\n",
    "   - 所有边界顶点的$out$节点连接到超级汇点$T$，容量为1\n",
    "\n",
    "2. ​最大流计*​：\n",
    "   - 使用Dinic算法计算从$S$到$T$的最大流\n",
    "   - 若最大流等于起点数$m$，则存在逃离路径\n",
    "\n",
    "**（2）时间复杂度：**  顶点数$O(n^2)$，边数$O(n^2)$，Dinic算法的时间复杂度为$O(E\\sqrt{V}) = O(n^3)$"
   ]
  },
  {
   "metadata": {
    "ExecuteTime": {
     "end_time": "2025-05-07T15:21:13.812601Z",
     "start_time": "2025-05-07T15:21:13.800695Z"
    }
   },
   "cell_type": "code",
   "source": [
    "from collections import deque\n",
    "\n",
    "class Edge:\n",
    "    def __init__(self, to, rev, capacity):\n",
    "        self.to = to\n",
    "        self.rev = rev\n",
    "        self.capacity = capacity\n",
    "\n",
    "class Dinic:\n",
    "    def __init__(self, n):\n",
    "        self.size = n\n",
    "        self.graph = [[] for _ in range(n)]\n",
    "    \n",
    "    def add_edge(self, fr, to, cap):\n",
    "        forward = Edge(to, len(self.graph[to]), cap)\n",
    "        backward = Edge(fr, len(self.graph[fr]), 0)\n",
    "        self.graph[fr].append(forward)\n",
    "        self.graph[to].append(backward)\n",
    "    \n",
    "    def bfs_level(self, s, t, level):\n",
    "        q = deque([s])\n",
    "        level[:] = [-1] * self.size\n",
    "        level[s] = 0\n",
    "        while q:\n",
    "            v = q.popleft()\n",
    "            for edge in self.graph[v]:\n",
    "                if edge.capacity > 0 and level[edge.to] == -1:\n",
    "                    level[edge.to] = level[v] + 1\n",
    "                    q.append(edge.to)\n",
    "                    if edge.to == t:\n",
    "                        return\n",
    "    \n",
    "    def dfs_flow(self, v, t, flow, level, ptr):\n",
    "        if v == t:\n",
    "            return flow\n",
    "        while ptr[v] < len(self.graph[v]):\n",
    "            edge = self.graph[v][ptr[v]]\n",
    "            if edge.capacity > 0 and level[v] < level[edge.to]:\n",
    "                min_flow = min(flow, edge.capacity)\n",
    "                result = self.dfs_flow(edge.to, t, min_flow, level, ptr)\n",
    "                if result > 0:\n",
    "                    edge.capacity -= result\n",
    "                    self.graph[edge.to][edge.rev].capacity += result\n",
    "                    return result\n",
    "            ptr[v] += 1\n",
    "        return 0\n",
    "    \n",
    "    def max_flow(self, s, t):\n",
    "        flow = 0\n",
    "        level = [-1] * self.size\n",
    "        while True:\n",
    "            self.bfs_level(s, t, level)\n",
    "            if level[t] == -1:\n",
    "                return flow\n",
    "            ptr = [0] * self.size\n",
    "            while True:\n",
    "                f = self.dfs_flow(s, t, float('inf'), level, ptr)\n",
    "                if f == 0:\n",
    "                    break\n",
    "                flow += f\n",
    "            level = [-1] * self.size\n",
    "        return flow\n",
    "\n",
    "def build_escape_network(n, starts):\n",
    "    total_nodes = 2 * n * n + 2 \n",
    "    s = 2 * n * n\n",
    "    t = s + 1\n",
    "    dinic = Dinic(total_nodes)\n",
    "    \n",
    "    # 添加顶点拆分边\n",
    "    for i in range(n):\n",
    "        for j in range(n):\n",
    "            in_node = i * n + j\n",
    "            out_node = in_node + n * n\n",
    "            dinic.add_edge(in_node, out_node, 1)\n",
    "    \n",
    "    # 添加相邻边\n",
    "    dirs = [(-1, 0), (1, 0), (0, -1), (0, 1)]\n",
    "    for i in range(n):\n",
    "        for j in range(n):\n",
    "            out_node = i * n + j + n * n\n",
    "            for dx, dy in dirs:\n",
    "                ni, nj = i + dx, j + dy\n",
    "                if 0 <= ni < n and 0 <= nj < n:\n",
    "                    neighbor_in = ni * n + nj\n",
    "                    dinic.add_edge(out_node, neighbor_in, 1)\n",
    "    \n",
    "    # 超级源点连接起点\n",
    "    for (x, y) in starts:\n",
    "        i, j = x - 1, y - 1  \n",
    "        in_node = i * n + j\n",
    "        dinic.add_edge(s, in_node, 1)\n",
    "    \n",
    "    # 超级汇点连接边界顶点\n",
    "    for i in range(n):\n",
    "        for j in range(n):\n",
    "            if i == 0 or i == n-1 or j == 0 or j == n-1:\n",
    "                out_node = i * n + j + n * n\n",
    "                dinic.add_edge(out_node, t, 1)\n",
    "    \n",
    "    return dinic, s, t\n",
    "\n",
    "def has_escape(n, starts):\n",
    "    m = len(starts)\n",
    "    if m == 0:\n",
    "        return True\n",
    "    if m > n * n:\n",
    "        return False\n",
    "    dinic, s, t = build_escape_network(n, starts)\n",
    "    return dinic.max_flow(s, t) == m\n",
    "\n",
    "# 测试\n",
    "n = 3\n",
    "starts = [(1, 1), (2, 2)]  \n",
    "print(has_escape(n, starts))"
   ],
   "outputs": [
    {
     "name": "stdout",
     "output_type": "stream",
     "text": [
      "True\n"
     ]
    }
   ],
   "execution_count": 4
  }
 ],
 "metadata": {
  "language_info": {
   "name": "python"
  },
  "kernelspec": {
   "name": "python3",
   "language": "python",
   "display_name": "Python 3 (ipykernel)"
  }
 },
 "nbformat": 4,
 "nbformat_minor": 2
}
