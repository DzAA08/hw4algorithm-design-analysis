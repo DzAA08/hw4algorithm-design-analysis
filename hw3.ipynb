{
 "cells": [
  {
   "cell_type": "markdown",
   "metadata": {},
   "source": [
    "## algorithm design and anlysis-2025 spring  homework 3\n",
    "**Deadline**：2025.5.14\n",
    "\n",
    "**name**：但博之\n",
    "\n",
    "\n",
    "note：\n",
    "---\n",
    "1. 带有\\*的题目，申请免上课的同学，必须完成，其他同学选作；\n",
    "2. 请独立完成，如求助了他人或者大模型，请著明，并且不可省略算法分析部分；\n",
    "4. 如若作答有雷同，全部取消成绩；\n",
    "3. 需要书面作答的题目，可以通过引用图片的形式添加，但是注意上传项目时包含所引用的图片的源文件；\n",
    "4. $log_n$ 默认表示$log_2{n}$;"
   ]
  },
  {
   "cell_type": "markdown",
   "metadata": {},
   "source": [
    "## 问题 1  \n",
    "\n",
    "请证明基于比较的排序算法计算复杂度下界为$\\Omega(nlogn)$"
   ]
  },
  {
   "cell_type": "markdown",
   "metadata": {},
   "source": [
    "you can refer a handwritten picture, pleas upload the picture in /fig/xxx.png\n",
    "answer：\n",
    "![hw3_1](/fig/hw3_1.jpg)"
   ]
  },
  {
   "cell_type": "markdown",
   "metadata": {},
   "source": [
    "## 问题 2 \n",
    "\n",
    "构建二叉搜索树\n",
    "\n",
    "> 1. 给定一个数组 [48, 33, 49, 47, 42, 46, 32], 构建一个二叉搜索树存储这些数据，请**绘制**所构建的**二叉搜索树**（标明结点的值）。\n",
    "> 2. 从第1问的二叉搜索树中删除33，请**绘制**删除33后的**二叉搜索树**（标明结点的值）\n",
    "\n",
    "- 推荐使用graphviz包绘制树的结构"
   ]
  },
  {
   "cell_type": "markdown",
   "metadata": {},
   "source": [
    "you can refer a handwritten picture, pleas upload the picture in /fig/xxx.png\n",
    "answer：\n",
    "![hw3_2](/fig/hw3_2.jpg)"
   ]
  },
  {
   "cell_type": "markdown",
   "metadata": {},
   "source": [
    "## 问题 3 \n",
    "\n",
    "> 下面是九门课程的开始和结束时间:\n",
    ">\n",
    "> [(9:00,12:30), (11:00,14:00), (13:00, 14:30), (9:00,10:30),(13:00, 14:30),(14:00,16:30), (15:00,16:30), (15:00,16:30), (9:00,10:30)]\n",
    ">\n",
    "> 请使用贪婪算法为这九门课分配教室，要求在同一天内安排这些课，并且每个教室同一时间只能安排一门课。\n",
    "\n",
    "**请问最少需要几间教室，罗列出每个教室安排的课程**"
   ]
  },
  {
   "cell_type": "markdown",
   "metadata": {},
   "source": [
    "idea：  \n",
    "**（1）算法设计：**  \n",
    "使用贪心算法来分配教室。步骤如下：\n",
    "- 按课程结束时间排序：首先将所有课程按照结束时间进行升序排序。\n",
    "- 分配教室：遍历排序后的课程列表，对于每一门课程，检查当前已分配的教室是否可以安排这门课程（即该教室的最后一门课程结束时间是否早于或等于当前课程的开始时间）。如果可以，则将该课程安排到该教室；否则，新开一个教室。\n",
    "\n",
    "**（2）时间复杂度：**  \n",
    "- 排序：使用Python内置的排序函数sort，时间复杂度为 $O(nlogn)$，其中$n$是课程的数量。\n",
    "- 教室分配：遍历课程列表并尝试分配教室，最坏情况下需要检查每一个教室，时间复杂度为 $O(n²)$\n",
    "- 总时间复杂度主要由排序决定为$O(nlogn)$"
   ]
  },
  {
   "cell_type": "code",
   "metadata": {
    "vscode": {
     "languageId": "plaintext"
    },
    "ExecuteTime": {
     "end_time": "2025-05-07T13:59:28.419079Z",
     "start_time": "2025-05-07T13:59:28.412293Z"
    }
   },
   "source": [
    "def allocate_classrooms(courses):\n",
    "    courses_with_index = sorted(enumerate(courses), key=lambda x: x[1][1])\n",
    "    \n",
    "    classrooms = []  # 记录每个教室的最后课程结束时间\n",
    "    classroom_courses = []  # 记录每个教室内课程的索引\n",
    "    \n",
    "    for index, course in courses_with_index:\n",
    "        start_time, end_time = course\n",
    "        \n",
    "        # 将课程安排到已有的教室中\n",
    "        assigned = False\n",
    "        for i, last_end_time in enumerate(classrooms):\n",
    "            if last_end_time <= start_time:\n",
    "                classrooms[i] = end_time\n",
    "                classroom_courses[i].append(index)\n",
    "                assigned = True\n",
    "                break\n",
    "        \n",
    "        # 如果无法安排到已有教室，则新开一个教室\n",
    "        if not assigned:\n",
    "            classrooms.append(end_time)\n",
    "            classroom_courses.append([index])\n",
    "    \n",
    "    return len(classrooms), classroom_courses\n",
    "\n",
    "\n",
    "# 测试\n",
    "courses = [(9, 12.5), (11, 14), (13, 14.5), (9, 10.5), (13, 14.5), (14, 16.5), (15, 16.5), (15, 16.5), (9, 10.5)]\n",
    "\n",
    "num_classrooms, classroom_assignments = allocate_classrooms(courses)\n",
    "\n",
    "print(f\"最少需要 {num_classrooms} 间教室\")\n",
    "for i, assignments in enumerate(classroom_assignments):\n",
    "    print(f\"教室 {i+1}: 安排的课程编号为： {', '.join(map(str, assignments))}\")"
   ],
   "outputs": [
    {
     "name": "stdout",
     "output_type": "stream",
     "text": [
      "最少需要 3 间教室\n",
      "教室 1: 安排的课程编号为： 3, 1, 5\n",
      "教室 2: 安排的课程编号为： 8, 2, 6\n",
      "教室 3: 安排的课程编号为： 0, 4, 7\n"
     ]
    }
   ],
   "execution_count": 1
  },
  {
   "cell_type": "markdown",
   "metadata": {},
   "source": [
    "## 问题 4 \n",
    "\n",
    "> 爬楼梯问题：假设爬楼梯时你每次只能爬一阶或者爬两阶，问爬上n阶的楼梯，你一共有多少种方法\n",
    "\n",
    "请设计算法完成该问题，分析算法设计思路，计算时间复杂度，并基于python编程实现"
   ]
  },
  {
   "cell_type": "markdown",
   "metadata": {},
   "source": [
    "idea：  \n",
    "**（1）算法设计：**  \n",
    "\n",
    "把问题转化为子问题的求解：假设爬到第 n 阶楼梯的方法数为 $f(n)$,要到第 n 阶，有两种方式：\n",
    "- 从第 n-1 阶走 1 步\n",
    "- 从第 n-2 阶走 2 步\n",
    "因此可以得到递推公式：$f(n)=f(n−1)+f(n−2)$\n",
    "\n",
    "**（2）时间复杂度：**  \n",
    "- $f(n)$ 会递归调用 $f(n-1)$ 和 $f(n-2)$\n",
    "- $f(n-1)$ 又会调用 $f(n-2)$ 和 $f(n-3)$\n",
    "- 以此类推…\n",
    "\n",
    "形成了一个二叉递归树，节点数大约是 2^n级。\n",
    "\n",
    "$T(n)=T(n−1)+T(n−2)=O(2^n)$"
   ]
  },
  {
   "cell_type": "code",
   "metadata": {
    "ExecuteTime": {
     "end_time": "2025-05-07T14:03:37.082767Z",
     "start_time": "2025-05-07T14:03:37.079004Z"
    }
   },
   "source": [
    "def climb_stairs(n: int) -> int:\n",
    "    if n == 0 or n == 1:\n",
    "        return 1\n",
    "    return climb_stairs(n - 1) + climb_stairs(n - 2)\n",
    "\n",
    "# 测试\n",
    "print(f\"爬上2阶楼梯，一共有{climb_stairs(2)}种方法\")  \n",
    "print(f\"爬上5阶楼梯，一共有{climb_stairs(5)}种方法\")  "
   ],
   "outputs": [
    {
     "name": "stdout",
     "output_type": "stream",
     "text": [
      "爬上2阶楼梯，一共有2种方法\n",
      "爬上5阶楼梯，一共有8种方法\n"
     ]
    }
   ],
   "execution_count": 2
  },
  {
   "cell_type": "markdown",
   "metadata": {},
   "source": [
    "## 问题 5 \n",
    "\n",
    "> 0-1背包问题：现在有4块大理石，每个大理石对应的重量和价值使用一个元组表示, 即（重量，价值），4块大理石的重量和价值为：[(5,10), (4,40), (6,30), (3, 50)], 假设你有一辆最大承重为9的小推车，请问使用这个小推车装大理石的最大价值为多少\n",
    "\n",
    "请设计一个算法解决该问题，分析算法设计思路，计算时间复杂度，并基于python编程实现"
   ]
  },
  {
   "cell_type": "markdown",
   "metadata": {},
   "source": [
    "idea：  \n",
    "**（1）算法设计：**  \n",
    "- 定义状态：用 dp[i][j] 表示前i件物品中，放入容量为j的背包能获得的最大价值。\n",
    "- 状态转移：考虑第i件物品（重量wᵢ，价值vᵢ）时：\n",
    "    - 不放它：价值 = dp[i-1][j]\n",
    "    - 放它（前提是j ≥ wᵢ）：价值 = dp[i-1][j - wᵢ] + vᵢ\n",
    "    - 取两者最大：\n",
    "        - dp[i][j] = max(dp[i-1][j], dp[i-1][j - wᵢ] + vᵢ)  （若 j ≥ wᵢ）\n",
    "        - dp[i][j] = dp[i-1][j]                            （若 j < wᵢ）\n",
    "- 边界条件：\n",
    "    - dp[0][*] = 0：没有物品时价值为0\n",
    "    - dp[*][0] = 0：容量为0时价值为0\n",
    "- 最终最大价值为：dp[n][W]\n",
    "\n",
    "**（2）时间复杂度：**  需填表 n 行、W 列，故为 $O(nW)$。其中$n$为大理石块数，$m$为小推车最大承重。"
   ]
  },
  {
   "cell_type": "code",
   "metadata": {
    "ExecuteTime": {
     "end_time": "2025-05-07T14:05:17.917217Z",
     "start_time": "2025-05-07T14:05:17.912552Z"
    }
   },
   "source": [
    "def knapsack_01(items, W):\n",
    "    dp = [0] * (W + 1)\n",
    "    for idx, (wt, val) in enumerate(items, start=1):\n",
    "        for j in range(W, wt - 1, -1):\n",
    "            dp[j] = max(dp[j], dp[j - wt] + val)\n",
    "    \n",
    "    return dp[W]\n",
    "\n",
    "\n",
    "# 测试\n",
    "items = [(5, 10), (4, 40), (6, 30), (3, 50)]\n",
    "capacity = 9\n",
    "max_value = knapsack_01(items, capacity)\n",
    "print(f\"最大价值为：{max_value}\")"
   ],
   "outputs": [
    {
     "name": "stdout",
     "output_type": "stream",
     "text": [
      "最大价值为：90\n"
     ]
    }
   ],
   "execution_count": 3
  },
  {
   "cell_type": "markdown",
   "metadata": {},
   "source": [
    "## 问题 6 \n",
    "给定 `n` 个非负整数表示每个宽度为 `1` 的柱子的高度图，计算按此排列的柱子，下雨之后能接多少雨水。\n",
    "\n",
    "\n",
    "\n",
    "<div style=\"text-align:center;width:800px;\"> <img alt=\"\" src=\"./fig/hw3q6.png\"> </div>\n",
    "\n",
    "请分析算法设计思路，计算时间复杂度，并基于python编程实现"
   ]
  },
  {
   "cell_type": "markdown",
   "metadata": {},
   "source": [
    "idea：  \n",
    "**（1）算法设计：**  \n",
    "采用动态规划：\n",
    "- 左最大数组：从左到右遍历，记录每个位置左侧（包括自身）的最大高度。\n",
    "- 右最大数组：从右到左遍历，记录每个位置右侧（包括自身）的最大高度。\n",
    "- 计算积水量：对于每个位置，其积水量取决于左右两侧最大高度的较小值减去当前高度。累加所有位置的积水量。 \n",
    "\n",
    "**（2）时间复杂度：**  $O(n)$，遍历数组三次（左最大、右最大、计算积水），每次时间复杂度为$O(n)$。"
   ]
  },
  {
   "cell_type": "code",
   "metadata": {
    "ExecuteTime": {
     "end_time": "2025-05-07T14:06:32.871619Z",
     "start_time": "2025-05-07T14:06:32.866965Z"
    }
   },
   "source": [
    "def trap(height):\n",
    "    n = len(height)\n",
    "    if n < 3:\n",
    "        return 0\n",
    "    \n",
    "    left_max = [0] * n\n",
    "    left_max[0] = height[0]\n",
    "    for i in range(1, n):\n",
    "        left_max[i] = max(left_max[i-1], height[i])\n",
    "    \n",
    "    right_max = [0] * n\n",
    "    right_max[-1] = height[-1]\n",
    "    for i in range(n-2, -1, -1):\n",
    "        right_max[i] = max(right_max[i+1], height[i])\n",
    "    \n",
    "    total_water = 0\n",
    "    for i in range(n):\n",
    "        water = min(left_max[i], right_max[i]) - height[i]\n",
    "        if water > 0:\n",
    "            total_water += water\n",
    "    \n",
    "    return total_water\n",
    "\n",
    "# 测试\n",
    "print(trap([0,1,0,2,1,0,1,3,2,1,2,1]))  \n",
    "print(trap([4,2,0,3,2,5]))    "
   ],
   "outputs": [
    {
     "name": "stdout",
     "output_type": "stream",
     "text": [
      "6\n",
      "9\n"
     ]
    }
   ],
   "execution_count": 4
  },
  {
   "cell_type": "markdown",
   "metadata": {},
   "source": [
    "## 问题 7 \n",
    "\n",
    "**股票投资组合优化**： 假设你是一位投资者，想要在不同的股票中分配你的资金，以最大化你的投资回报。每只股票都有不同的预期收益率和风险。你的目标是选择一些股票，使得总投资金额不超过你的预算，并且预期收益最大化。\n",
    "\n",
    "在这个情况下，你可以将每只股票视为一个“物品”，其重量为投资金额，价值为预期收益率。然后，你可以使用分级背包问题的方法来选择部分股票，以便在预算内获得最大的预期收益。\n",
    "\n",
    "以下是一个简化的例子：\n",
    "\n",
    "假设你有以下三只股票可供选择：\n",
    "\n",
    "1. 股票 A：投资金额 5000 美元，预期收益率 10%\n",
    "2. 股票 B：投资金额 3000 美元，预期收益率 8%\n",
    "3. 股票 C：投资金额 2000 美元，预期收益率 12%\n",
    "\n",
    "请设计算法找到最优投资方案，分析算法设计思路，计算时间复杂度，并基于python编程实现"
   ]
  },
  {
   "cell_type": "markdown",
   "metadata": {},
   "source": [
    "本题参考deepseek大模型\n",
    "\n",
    "idea：  \n",
    "**（1）算法设计：**  \n",
    "采用分数背包（Fractional Knapsack）算法\n",
    "1. 问题建模：将每只股票视为一件物品：\n",
    "    - 重量 $w_i$：投资金额）\n",
    "    - 价值 $v_i$：预期收益，即投资金额 × 预期收益率\n",
    "    - 背包容量 $W$：可用预算\n",
    "2. 贪心策略：\n",
    "    - 计算每只股票的\"单位重量价值\" $\\frac{v_i}{w_i}$ = 预期收益率\n",
    "    - 按单位重量价值从大到小排序\n",
    "    - 依次取收益率最高的股票：\n",
    "        - 若剩余预算能买下整股则全部买入\n",
    "        - 否则只买入能用完剩余预算的部分（即可分配的金额）\n",
    "3. 算法步骤\n",
    "    - 对股票列表按预期收益率（单位价值）降序排序\n",
    "    - 初始化剩余预算 remain = W，累计收益 total_return = 0\n",
    "    - 遍历排序后的股票列表，对第i只股票：\n",
    "        - 若 $w_i \\leq remain$，则全额投资\n",
    "        - 否则，只部分投资\n",
    "\n",
    "**（2）时间复杂度：**  \n",
    "- 排序：$O(nlogn)$\n",
    "- 遍历：$O(n)$\n",
    "- 总计：$O(nlogn)$"
   ]
  },
  {
   "cell_type": "code",
   "metadata": {
    "ExecuteTime": {
     "end_time": "2025-05-07T14:12:09.676038Z",
     "start_time": "2025-05-07T14:12:09.669759Z"
    }
   },
   "source": [
    "def fractional_knapsack(stocks, budget):\n",
    "    # 计算每股的绝对预期收益，并按收益率排序\n",
    "    items = [\n",
    "        (name, cost, cost * rate, rate)\n",
    "        for name, cost, rate in stocks\n",
    "    ]\n",
    "    # 按单位价值（收益率）降序\n",
    "    items.sort(key=lambda x: x[3], reverse=True)\n",
    "\n",
    "    remain = budget\n",
    "    total_return = 0.0\n",
    "    allocation = []  \n",
    "\n",
    "    for name, cost, value, rate in items:\n",
    "        if remain <= 0:\n",
    "            break\n",
    "        if cost <= remain:\n",
    "            # 全额投资\n",
    "            total_return += value\n",
    "            allocation.append((name, cost, 1.0))\n",
    "            remain -= cost\n",
    "        else:\n",
    "            # 部分投资\n",
    "            fraction = remain / cost\n",
    "            total_return += value * fraction\n",
    "            allocation.append((name, remain, fraction))\n",
    "            remain = 0\n",
    "            break\n",
    "\n",
    "    return total_return, allocation\n",
    "\n",
    "# 测试\n",
    "stocks = [\n",
    "    (\"A\", 5000, 0.10),\n",
    "    (\"B\", 3000, 0.08),\n",
    "    (\"C\", 2000, 0.12),\n",
    "]\n",
    "budget = 7000  \n",
    "\n",
    "total_return, allocation = fractional_knapsack(stocks, budget)\n",
    "print(f\"总预期收益：{total_return}美元\")\n",
    "print(\"投资分配：\")\n",
    "for name, invested, frac in allocation:\n",
    "    print(f\"  股票 {name}：投资{invested}美元\")"
   ],
   "outputs": [
    {
     "name": "stdout",
     "output_type": "stream",
     "text": [
      "总预期收益：740.0美元\n",
      "投资分配：\n",
      "  股票 C：投资2000美元\n",
      "  股票 A：投资5000美元\n"
     ]
    }
   ],
   "execution_count": 5
  },
  {
   "cell_type": "markdown",
   "metadata": {},
   "source": [
    "## 问题 8\n",
    "\n",
    "给你二叉搜索树的根节点 root ，该树中的恰好两个节点的值被错误地交换。请在不改变其结构的情况下，恢复这棵树 。设计算法解决该问题，分析算法设计思路，计算时间复杂度，并基于python编程实现\n",
    "\n",
    "e.g.:\n",
    "---\n",
    "1.\n",
    "\n",
    "<div style=\"text-align:center;width:200px;\"> <img alt=\"\" src=\"./fig/hw3q9-1.jpg\"> </div>\n",
    "输入：root = [1,3,null,null,2]， 输出为：[3,1,null,null,2]， \n",
    "\n",
    "解释：3 不能是 1 的左孩子，因为 3 > 1 。交换 1 和 3 使二叉搜索树有效。\n",
    "\n",
    "2.\n",
    "\n",
    " <div style=\"text-align:center;width:200px;\"> <img alt=\"\" src=\"./fig/hw3q9-1.jpg\"> </div>\n",
    "输入： root=[3,1,4,null,null,2]， 输出为：[2,1,4,null,null,3]\n",
    "\n",
    "解释：2 不能在 3 的右子树中，因为 2 < 3 。交换 2 和 3 使二叉搜索树有效。"
   ]
  },
  {
   "cell_type": "markdown",
   "metadata": {},
   "source": [
    "idea：  \n",
    "**（1）算法设计：**  \n",
    "二叉搜索树（BST）的中序遍历结果应为递增序列。当两个节点被错误交换时，中序遍历中会出现逆序对。通过两次遍历逆序对的位置，可以确定需要交换的两个节点：\n",
    "   - 中序遍历：遍历树，记录前驱节点。\n",
    "   - 检测逆序对：当发现前驱节点值大于当前节点值时：\n",
    "        - 第一次逆序对：记录第一个错误节点为前驱节点，第二个错误节点为当前节点。\n",
    "        - 第二次逆序对：更新第二个错误节点为当前节点。\n",
    "   - 交换节点值：遍历结束后，交换两个错误节点的值。\n",
    "\n",
    "**（2）时间复杂度：**  $O(n)$。每个节点被访问一次，中序遍历的时间复杂度为 $O(n)$，交换操作 $O(1)$。"
   ]
  },
  {
   "cell_type": "code",
   "metadata": {
    "ExecuteTime": {
     "end_time": "2025-05-07T14:14:41.526334Z",
     "start_time": "2025-05-07T14:14:41.518193Z"
    }
   },
   "source": [
    "class TreeNode:\n",
    "    def __init__(self, val=0, left=None, right=None):\n",
    "        self.val = val\n",
    "        self.left = left\n",
    "        self.right = right\n",
    "\n",
    "class Solution:\n",
    "    def recoverTree(self, root: TreeNode) -> None:\n",
    "        self.prev = None\n",
    "        self.first = None\n",
    "        self.second = None\n",
    "        \n",
    "        # 中序遍历查找错误节点\n",
    "        self.inorder(root)\n",
    "        \n",
    "        # 交换两个错误节点的值\n",
    "        if self.first and self.second:\n",
    "            self.first.val, self.second.val = self.second.val, self.first.val\n",
    "    \n",
    "    def inorder(self, node):\n",
    "        if not node:\n",
    "            return\n",
    "        \n",
    "        self.inorder(node.left)\n",
    "        \n",
    "        # 检测逆序对\n",
    "        if self.prev and self.prev.val > node.val:\n",
    "            if not self.first:\n",
    "                self.first = self.prev\n",
    "            self.second = node \n",
    "        \n",
    "        self.prev = node \n",
    "        self.inorder(node.right)\n",
    "\n",
    "def tree_to_list(root):\n",
    "    if not root:\n",
    "        return []\n",
    "    \n",
    "    result = []\n",
    "    queue = [root]\n",
    "    while queue:\n",
    "        node = queue.pop(0)\n",
    "        if node:\n",
    "            result.append(node.val)\n",
    "            queue.append(node.left)\n",
    "            queue.append(node.right)\n",
    "        else:\n",
    "            result.append(None)\n",
    "    \n",
    "    # Remove trailing None values\n",
    "    while result and result[-1] is None:\n",
    "        result.pop()\n",
    "    \n",
    "    return result\n",
    "\n",
    "def list_to_tree(lst):\n",
    "    if not lst:\n",
    "        return None\n",
    "    \n",
    "    root = TreeNode(lst[0])\n",
    "    queue = [root]\n",
    "    i = 1\n",
    "    \n",
    "    while i < len(lst):\n",
    "        node = queue.pop(0)\n",
    "        \n",
    "        if lst[i] is not None:\n",
    "            node.left = TreeNode(lst[i])\n",
    "            queue.append(node.left)\n",
    "        i += 1\n",
    "        \n",
    "        if i < len(lst) and lst[i] is not None:\n",
    "            node.right = TreeNode(lst[i])\n",
    "            queue.append(node.right)\n",
    "        i += 1\n",
    "    \n",
    "    return root\n",
    "\n",
    "# 测试\n",
    "test_cases = [\n",
    "    [1, 3, None, None, 2],\n",
    "    [3, 1, 4, None, None, 2]\n",
    "]\n",
    "    \n",
    "solution = Solution()\n",
    "    \n",
    "for case in test_cases:\n",
    "    root = list_to_tree(case)\n",
    "    print(f\"Input: {case}\")\n",
    "    solution.recoverTree(root)\n",
    "    output = tree_to_list(root)\n",
    "    print(f\"Output: {output}\\n\")"
   ],
   "outputs": [
    {
     "name": "stdout",
     "output_type": "stream",
     "text": [
      "Input: [1, 3, None, None, 2]\n",
      "Output: [3, 1, None, None, 2]\n",
      "\n",
      "Input: [3, 1, 4, None, None, 2]\n",
      "Output: [2, 1, 4, None, None, 3]\n",
      "\n"
     ]
    }
   ],
   "execution_count": 6
  },
  {
   "cell_type": "markdown",
   "metadata": {},
   "source": [
    "## 问题 9  \n",
    "\n",
    "给你一个二叉树的根节点 root ，树中每个节点都存放有一个 0 到 9 之间的数字。每条从根节点到叶节点的路径都代表一个数字：\n",
    "\n",
    "> 例如，从根节点到叶节点的路径 1 -> 2 -> 3 表示数字 123 。\n",
    "\n",
    "设计一个算法计算从根节点到叶节点生成的所有数字之和 ，分析算法设计思路，计算时间复杂度，并基于python编程实现\n",
    "\n",
    "叶节点:是指没有子节点的节点。\n",
    "\n",
    "e.g.:\n",
    "---\n",
    "1.\n",
    "\n",
    " <div style=\"text-align:center;width:200px;\"> <img alt=\"figure\" src=\"./fig/hw3q10-1.jpg\"> </div>\n",
    "\n",
    " 输入：root = [1,2,3], 输出：25\n",
    "\n",
    "解释：从根到叶子节点路径 1->2 代表数字 12，1->3 代表数字 13，因此和为 12 + 13 = 25 。\n",
    "\n",
    "2.\n",
    "\n",
    " <div style=\"text-align:center;width:200px;\"> <img alt=\"figure\" src=\"./fig/hw3q10-2.jpg\"> </div>\n",
    "\n",
    " 输入：root = [4,9,0,5,1], 输出：1026\n",
    "\n",
    "解释：从根到叶子节点路径 4->9->5 代表数字 495，4->9->1 代表数字 491，4->0 代表数字 40。因此和为 495 + 491 + 40 = 1026 。"
   ]
  },
  {
   "cell_type": "markdown",
   "metadata": {},
   "source": [
    "idea：  \n",
    "**（1）算法设计：**  \n",
    "- 深度优先搜索（DFS）:\n",
    "    - 递归遍历二叉树的每个节点，记录从根到当前节点的路径数字。\n",
    "    - 当到达叶节点时，将当前路径数字累加到总和中。\n",
    "- 递归函数设计:\n",
    "    - 参数：当前节点 node 和当前路径数字 current_number。\n",
    "    - 终止条件：若节点为空，返回 0；若为叶节点，返回 current_number。\n",
    "    - 递推关系：\n",
    "        - 更新路径数字：current_number = current_number * 10 + node.val\n",
    "        - 递归左子树和右子树，返回左右子树结果之和。\n",
    "\n",
    "**（2）时间复杂度：**  $O(n)$，其中 n 为二叉树节点总数。每个节点仅被访问一次。"
   ]
  },
  {
   "cell_type": "code",
   "metadata": {
    "ExecuteTime": {
     "end_time": "2025-05-07T14:16:01.657733Z",
     "start_time": "2025-05-07T14:16:01.650804Z"
    }
   },
   "source": [
    "class TreeNode:\n",
    "    def __init__(self, val=0, left=None, right=None):\n",
    "        self.val = val\n",
    "        self.left = left\n",
    "        self.right = right\n",
    "\n",
    "def sumNumbers(root):\n",
    "    def dfs(node, current_number):\n",
    "        if not node:\n",
    "            return 0\n",
    "        current_number = current_number * 10 + node.val\n",
    "        if not node.left and not node.right:\n",
    "            return current_number\n",
    "        return dfs(node.left, current_number) + dfs(node.right, current_number)\n",
    "    \n",
    "    return dfs(root, 0)\n",
    "\n",
    "def list_to_tree(lst):\n",
    "    if not lst or lst[0] is None:\n",
    "        return None\n",
    "    root = TreeNode(lst[0])\n",
    "    queue = [root]\n",
    "    i = 1 \n",
    "    \n",
    "    while i < len(lst):\n",
    "        current = queue.pop(0)\n",
    "        \n",
    "        # 处理左子节点\n",
    "        if i < len(lst) and lst[i] is not None:\n",
    "            current.left = TreeNode(lst[i])\n",
    "            queue.append(current.left)\n",
    "        else:\n",
    "            current.left = None\n",
    "        \n",
    "        # 处理右子节点\n",
    "        if i + 1 < len(lst) and lst[i + 1] is not None:\n",
    "            current.right = TreeNode(lst[i + 1])\n",
    "            queue.append(current.right)\n",
    "        else:\n",
    "            current.right = None\n",
    "        \n",
    "        i += 2\n",
    "    \n",
    "    return root\n",
    "\n",
    "# 测试\n",
    "root1 = list_to_tree([1, 2, 3])\n",
    "print(sumNumbers(root1))\n",
    "\n",
    "root2 = list_to_tree([4, 9, 0, 5, 1])\n",
    "print(sumNumbers(root2))"
   ],
   "outputs": [
    {
     "name": "stdout",
     "output_type": "stream",
     "text": [
      "25\n",
      "1026\n"
     ]
    }
   ],
   "execution_count": 7
  },
  {
   "cell_type": "markdown",
   "metadata": {},
   "source": [
    "## 问题 10  \n",
    "\n",
    "给你一个二叉树的根节点 root ， 检查它是否轴对称。\n",
    "\n",
    "1. 分析算法设计思路，计算时间复杂度，并基于python编程实现\n",
    "2. \\* 设计使用递归和迭代两种方法解决这个问题，计算时间复杂度，并基于python编程实现\n",
    "\n",
    "e.g.:\n",
    "---\n",
    "1.\n",
    "\n",
    " <div style=\"text-align:center;width:200px;\"> <img alt=\"figure\" src=\"./fig/hw3q11-1.png\"> </div>\n",
    "\n",
    " 输入：root = [1,2,2,3,4,4,3]， 输出：true\n",
    "\n",
    "解释：二叉树 [1,2,2,3,4,4,3] 对称。\n",
    "\n",
    "2.\n",
    "\n",
    " <div style=\"text-align:center;width:200px;\"> <img alt=\"figure\" src=\"./fig/hw3q11-2.png\"> </div>\n",
    "\n",
    " 输入：root = [1,2,2,null,3,null,3]， 输出：false"
   ]
  },
  {
   "cell_type": "markdown",
   "metadata": {},
   "source": [
    "idea：  \n",
    "**（1）算法设计：**  \n",
    "\n",
    "采用递归方法：\n",
    "- 定义一个辅助函数 isMirror 来检查两棵树是否互为镜像。\n",
    "    - 如果两个节点都为空，则它们是对称的。\n",
    "    - 如果其中一个节点为空而另一个不为空，则它们不对称。\n",
    "    - 如果两个节点的值不同，则它们不对称。\n",
    "- 递归检查左子树的左孩子和右子树的右孩子，以及左子树的右孩子和右子树的左孩子是否对称。\n",
    "\n",
    "**（2）时间复杂度：**  每个节点只会被访问一次，因此时间复杂度为 $O(n)$，其中$n$是树中节点的数量。"
   ]
  },
  {
   "cell_type": "code",
   "metadata": {
    "ExecuteTime": {
     "end_time": "2025-05-07T14:17:25.344481Z",
     "start_time": "2025-05-07T14:17:25.338618Z"
    }
   },
   "source": [
    "class TreeNode:\n",
    "    def __init__(self, val=0, left=None, right=None):\n",
    "        self.val = val\n",
    "        self.left = left\n",
    "        self.right = right\n",
    "\n",
    "def build_tree(nodes):\n",
    "    if not nodes:\n",
    "        return None\n",
    "    \n",
    "    root = TreeNode(nodes[0])\n",
    "    queue = [root]\n",
    "    index = 1\n",
    "    \n",
    "    while queue and index < len(nodes):\n",
    "        node = queue.pop(0)\n",
    "        \n",
    "        if nodes[index] is not None:\n",
    "            node.left = TreeNode(nodes[index])\n",
    "            queue.append(node.left)\n",
    "        index += 1\n",
    "        \n",
    "        if index < len(nodes) and nodes[index] is not None:\n",
    "            node.right = TreeNode(nodes[index])\n",
    "            queue.append(node.right)\n",
    "        index += 1\n",
    "    \n",
    "    return root\n",
    "\n",
    "def isSymmetric(root):\n",
    "    if not root:\n",
    "        return True\n",
    "    return isMirror(root.left, root.right)\n",
    "\n",
    "def isMirror(left, right):\n",
    "    if not left and not right:\n",
    "        return True\n",
    "    if not left or not right:\n",
    "        return False\n",
    "    return (left.val == right.val) and isMirror(left.left, right.right) and isMirror(left.right, right.left)\n",
    "\n",
    "# 测试\n",
    "root_list_1 = [1, 2, 2, 3, 4, 4, 3]\n",
    "root_1 = build_tree(root_list_1)\n",
    "print(\"是否轴对称:\", isSymmetric(root_1))\n",
    "\n",
    "# 测试用例 2: 非对称二叉树\n",
    "root_list_2 = [1, 2, 2, None, 3, None, 3]\n",
    "root_2 = build_tree(root_list_2)\n",
    "print(\"是否轴对称:\", isSymmetric(root_2))"
   ],
   "outputs": [
    {
     "name": "stdout",
     "output_type": "stream",
     "text": [
      "是否轴对称: True\n",
      "是否轴对称: False\n"
     ]
    }
   ],
   "execution_count": 8
  },
  {
   "cell_type": "markdown",
   "metadata": {},
   "source": [
    "## 问题 11  \n",
    "\n",
    "给你一个由 '1'（陆地）和 '0'（水）组成的的二维网格，请你计算网格中岛屿的数量。岛屿总是被水包围，并且每座岛屿只能由水平方向和/或竖直方向上相邻的陆地连接形成。\n",
    "\n",
    "此外，你可以假设该网格的四条边均被水包围。\n",
    "\n",
    "分析算法设计思路，计算时间复杂度，并基于python编程实现\n",
    "\n",
    "e.g.:\n",
    "---\n",
    "1.\n",
    "输入：grid = [\n",
    "\n",
    "    [\"1\",\"1\",\"1\",\"1\",\"0\"],\n",
    "\n",
    "    [\"1\",\"1\",\"0\",\"1\",\"0\"], \n",
    "\n",
    "    [\"1\",\"1\",\"0\",\"0\",\"0\"], \n",
    "\n",
    "    [\"0\",\"0\",\"0\",\"0\",\"0\"]  \n",
    "\n",
    "]\n",
    "\n",
    "输出：1\n",
    "\n",
    "2.\n",
    "输入：grid = [\n",
    "\n",
    "    [\"1\",\"1\",\"0\",\"0\",\"0\"],\n",
    "\n",
    "    [\"1\",\"1\",\"0\",\"0\",\"0\"],\n",
    "\n",
    "    [\"0\",\"0\",\"1\",\"0\",\"0\"],\n",
    "\n",
    "    [\"0\",\"0\",\"0\",\"1\",\"1\"]\n",
    "\n",
    "]\n",
    "\n",
    "输出：3"
   ]
  },
  {
   "cell_type": "markdown",
   "metadata": {},
   "source": [
    "idea：  \n",
    "**（1）算法设计：**  \n",
    "\n",
    "通过广度优先搜索（BFS）解决，遍历网格中的每个点，当遇到未被访问的陆地（'1'）时，标记所有与之相连的陆地，从而统计岛屿数量。具体步骤如下：\n",
    "- 遍历网格：逐行逐列检查每个点。\n",
    "- 发现陆地：当遇到一个未被访问的'1'时，岛屿数量加1。\n",
    "- 标记相连陆地：使用BFS将当前陆地及其所有相邻陆地标记为已访问。\n",
    "- 重复直到完成：继续遍历剩余的点，直到整个网格处理完毕。\n",
    "\n",
    "**（2）时间复杂度：**  时间复杂度：$O(m×n)$，其中$m$为行数，$n$为列数。"
   ]
  },
  {
   "cell_type": "code",
   "metadata": {
    "ExecuteTime": {
     "end_time": "2025-05-07T14:19:04.756279Z",
     "start_time": "2025-05-07T14:19:04.750575Z"
    }
   },
   "source": [
    "from collections import deque\n",
    "from typing import List\n",
    "\n",
    "def numIslands(grid: List[List[str]]) -> int:\n",
    "    if not grid:\n",
    "        return 0\n",
    "    \n",
    "    rows = len(grid)\n",
    "    cols = len(grid[0])\n",
    "    count = 0\n",
    "    \n",
    "    for i in range(rows):\n",
    "        for j in range(cols):\n",
    "            if grid[i][j] == '1':\n",
    "                count += 1\n",
    "                queue = deque()\n",
    "                queue.append((i, j))\n",
    "                grid[i][j] = '0'  # 标记为已访问\n",
    "                # 遍历所有相邻陆地\n",
    "                while queue:\n",
    "                    x, y = queue.popleft()\n",
    "                    for dx, dy in [(-1, 0), (1, 0), (0, -1), (0, 1)]:\n",
    "                        nx = x + dx\n",
    "                        ny = y + dy\n",
    "                        if 0 <= nx < rows and 0 <= ny < cols and grid[nx][ny] == '1':\n",
    "                            queue.append((nx, ny))\n",
    "                            grid[nx][ny] = '0'  # 标记为已访问\n",
    "    return count\n",
    "\n",
    "# 测试\n",
    "grid1 = [\n",
    "    [\"1\",\"1\",\"1\",\"1\",\"0\"],\n",
    "    [\"1\",\"1\",\"0\",\"1\",\"0\"],\n",
    "    [\"1\",\"1\",\"0\",\"0\",\"0\"],\n",
    "    [\"0\",\"0\",\"0\",\"0\",\"0\"]\n",
    "]\n",
    "print(numIslands(grid1))\n",
    "\n",
    "grid2 = [\n",
    "    [\"1\",\"1\",\"0\",\"0\",\"0\"],\n",
    "    [\"1\",\"1\",\"0\",\"0\",\"0\"],\n",
    "    [\"0\",\"0\",\"1\",\"0\",\"0\"],\n",
    "    [\"0\",\"0\",\"0\",\"1\",\"1\"]\n",
    "]\n",
    "print(numIslands(grid2))"
   ],
   "outputs": [
    {
     "name": "stdout",
     "output_type": "stream",
     "text": [
      "1\n",
      "3\n"
     ]
    }
   ],
   "execution_count": 9
  }
 ],
 "metadata": {
  "language_info": {
   "name": "python"
  },
  "kernelspec": {
   "name": "python3",
   "language": "python",
   "display_name": "Python 3 (ipykernel)"
  }
 },
 "nbformat": 4,
 "nbformat_minor": 2
}
